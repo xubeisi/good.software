{
 "cells": [
  {
   "cell_type": "markdown",
   "metadata": {},
   "source": [
    "# GITHUB vs SOURCEFORGE vs OTHER \n",
    "## Exploring data (below here can be removed temporary)"
   ]
  },
  {
   "cell_type": "code",
   "execution_count": 239,
   "metadata": {},
   "outputs": [],
   "source": [
    "from __future__ import division\n",
    "import matplotlib as mpl\n",
    "import seaborn as sns\n",
    "import pandas as pd\n",
    "import pylab as pl\n",
    "import numpy as np\n",
    "from scipy import stats\n",
    "\n",
    "import matplotlib.pyplot as plt\n",
    "\n",
    "\n",
    "class my_colors: \n",
    "    red = (1.0,0.2,0.1)\n",
    "    orange = (1.0,0.6,0.2)\n",
    "    green = (0.3,0.9,0.3)\n",
    "    blue = (0.3,0.7,1.0)"
   ]
  },
  {
   "cell_type": "code",
   "execution_count": 240,
   "metadata": {
    "scrolled": false
   },
   "outputs": [
    {
     "data": {
      "text/html": [
       "<div>\n",
       "<style scoped>\n",
       "    .dataframe tbody tr th:only-of-type {\n",
       "        vertical-align: middle;\n",
       "    }\n",
       "\n",
       "    .dataframe tbody tr th {\n",
       "        vertical-align: top;\n",
       "    }\n",
       "\n",
       "    .dataframe thead th {\n",
       "        text-align: right;\n",
       "    }\n",
       "</style>\n",
       "<table border=\"1\" class=\"dataframe\">\n",
       "  <thead>\n",
       "    <tr style=\"text-align: right;\">\n",
       "      <th></th>\n",
       "      <th>type</th>\n",
       "      <th>journal</th>\n",
       "      <th>id</th>\n",
       "      <th>year</th>\n",
       "      <th>link</th>\n",
       "      <th>code</th>\n",
       "      <th>flag.uniqueness</th>\n",
       "    </tr>\n",
       "  </thead>\n",
       "  <tbody>\n",
       "    <tr>\n",
       "      <th>0</th>\n",
       "      <td>abstract</td>\n",
       "      <td>Nucleic_Acids_Res</td>\n",
       "      <td>23155066.0</td>\n",
       "      <td>2013</td>\n",
       "      <td>http://www.netlab.uky.edu/p/bioinfo/DiffSplice</td>\n",
       "      <td>200</td>\n",
       "      <td>0</td>\n",
       "    </tr>\n",
       "    <tr>\n",
       "      <th>1</th>\n",
       "      <td>abstract</td>\n",
       "      <td>Bioinformatics</td>\n",
       "      <td>27273673.0</td>\n",
       "      <td>2017</td>\n",
       "      <td>http://www.cs.helsinki.fi/u/lmsalmel/LoRMA/</td>\n",
       "      <td>302</td>\n",
       "      <td>0</td>\n",
       "    </tr>\n",
       "    <tr>\n",
       "      <th>2</th>\n",
       "      <td>abstract</td>\n",
       "      <td>BMC_Bioinformatics</td>\n",
       "      <td>20492656.0</td>\n",
       "      <td>2010</td>\n",
       "      <td>http://www.cse.univdhaka.edu/~ashis/ppred/inde...</td>\n",
       "      <td>301</td>\n",
       "      <td>0</td>\n",
       "    </tr>\n",
       "    <tr>\n",
       "      <th>3</th>\n",
       "      <td>abstract</td>\n",
       "      <td>PLoS_Comput_Biol</td>\n",
       "      <td>28212402.0</td>\n",
       "      <td>2017</td>\n",
       "      <td>https://dongjunchung.github.io/GGPA/</td>\n",
       "      <td>301</td>\n",
       "      <td>0</td>\n",
       "    </tr>\n",
       "    <tr>\n",
       "      <th>4</th>\n",
       "      <td>abstract</td>\n",
       "      <td>Bioinformatics</td>\n",
       "      <td>28130230.0</td>\n",
       "      <td>2017</td>\n",
       "      <td>https://github.com/bfosso/MetaShot</td>\n",
       "      <td>301</td>\n",
       "      <td>0</td>\n",
       "    </tr>\n",
       "  </tbody>\n",
       "</table>\n",
       "</div>"
      ],
      "text/plain": [
       "       type             journal          id  year  \\\n",
       "0  abstract   Nucleic_Acids_Res  23155066.0  2013   \n",
       "1  abstract      Bioinformatics  27273673.0  2017   \n",
       "2  abstract  BMC_Bioinformatics  20492656.0  2010   \n",
       "3  abstract    PLoS_Comput_Biol  28212402.0  2017   \n",
       "4  abstract      Bioinformatics  28130230.0  2017   \n",
       "\n",
       "                                                link  code  flag.uniqueness  \n",
       "0     http://www.netlab.uky.edu/p/bioinfo/DiffSplice   200                0  \n",
       "1        http://www.cs.helsinki.fi/u/lmsalmel/LoRMA/   302                0  \n",
       "2  http://www.cse.univdhaka.edu/~ashis/ppred/inde...   301                0  \n",
       "3               https://dongjunchung.github.io/GGPA/   301                0  \n",
       "4                 https://github.com/bfosso/MetaShot   301                0  "
      ]
     },
     "execution_count": 240,
     "metadata": {},
     "output_type": "execute_result"
    }
   ],
   "source": [
    "links = pd.read_csv('../links.bulk.csv')\n",
    "# links = links.sort_values(by=['year'])\n",
    "# links = links[(links.year >= initial_year)]\n",
    "links.head()"
   ]
  },
  {
   "cell_type": "markdown",
   "metadata": {},
   "source": [
    "Parsing from code into human-readable status:\n",
    "\n",
    "* -1 : time out\n",
    "* 0..299 : good\n",
    "* 300..399 : redirected\n",
    "* \\>= 400 : not found"
   ]
  },
  {
   "cell_type": "code",
   "execution_count": 241,
   "metadata": {},
   "outputs": [
    {
     "name": "stdout",
     "output_type": "stream",
     "text": [
      "48392\n"
     ]
    }
   ],
   "source": [
    "\n",
    "conditions = [\n",
    "    (links['link'].str.contains(\"github\")==True),\n",
    "    (links['link'].str.contains(\"sourceforge\")==True)]\n",
    "\n",
    "choices = ['GitHub', 'SourceForge']\n",
    "links['source'] = np.select(conditions, choices, default='Other')\n",
    "\n",
    "\n",
    "\n",
    "conditions = [\n",
    "    ((links['code']>=0) & (links['code']<=299)),\n",
    "    ((links['code']==-1)),\n",
    "    ((links['code']>=400)),\n",
    "    ((links['code']>=300) & (links['code']<=399))\n",
    "            ]\n",
    "\n",
    "choices = ['Good', 'Time Out', 'Not Found', 'Redirected']\n",
    "\n",
    "\n",
    "links['status'] = np.select(conditions, choices)\n",
    "\n",
    "\n",
    "conditions = [\n",
    "    (((links['code']>=0) & (links['code']<=299)) | ((links['code']>=300) & (links['code']<=399))),\n",
    "    (((links['code']==-1)) | ((links['code']>=400))),\n",
    "    \n",
    "            ]\n",
    "\n",
    "choices = [1, 0]\n",
    "\n",
    "links['binary_status'] = np.select(conditions, choices)\n",
    "print (len(links))"
   ]
  },
  {
   "cell_type": "code",
   "execution_count": 242,
   "metadata": {},
   "outputs": [
    {
     "data": {
      "text/html": [
       "<div>\n",
       "<style scoped>\n",
       "    .dataframe tbody tr th:only-of-type {\n",
       "        vertical-align: middle;\n",
       "    }\n",
       "\n",
       "    .dataframe tbody tr th {\n",
       "        vertical-align: top;\n",
       "    }\n",
       "\n",
       "    .dataframe thead th {\n",
       "        text-align: right;\n",
       "    }\n",
       "</style>\n",
       "<table border=\"1\" class=\"dataframe\">\n",
       "  <thead>\n",
       "    <tr style=\"text-align: right;\">\n",
       "      <th></th>\n",
       "      <th>type</th>\n",
       "      <th>journal</th>\n",
       "      <th>id</th>\n",
       "      <th>year</th>\n",
       "      <th>link</th>\n",
       "      <th>code</th>\n",
       "      <th>flag.uniqueness</th>\n",
       "      <th>source</th>\n",
       "      <th>status</th>\n",
       "      <th>binary_status</th>\n",
       "    </tr>\n",
       "  </thead>\n",
       "  <tbody>\n",
       "    <tr>\n",
       "      <th>3</th>\n",
       "      <td>abstract</td>\n",
       "      <td>PLoS_Comput_Biol</td>\n",
       "      <td>28212402.0</td>\n",
       "      <td>2017</td>\n",
       "      <td>https://dongjunchung.github.io/GGPA/</td>\n",
       "      <td>301</td>\n",
       "      <td>0</td>\n",
       "      <td>GitHub</td>\n",
       "      <td>Redirected</td>\n",
       "      <td>1</td>\n",
       "    </tr>\n",
       "    <tr>\n",
       "      <th>4</th>\n",
       "      <td>abstract</td>\n",
       "      <td>Bioinformatics</td>\n",
       "      <td>28130230.0</td>\n",
       "      <td>2017</td>\n",
       "      <td>https://github.com/bfosso/MetaShot</td>\n",
       "      <td>301</td>\n",
       "      <td>0</td>\n",
       "      <td>GitHub</td>\n",
       "      <td>Redirected</td>\n",
       "      <td>1</td>\n",
       "    </tr>\n",
       "    <tr>\n",
       "      <th>5</th>\n",
       "      <td>abstract</td>\n",
       "      <td>Nucleic_Acids_Res</td>\n",
       "      <td>20935049.0</td>\n",
       "      <td>2011</td>\n",
       "      <td>http://github.com</td>\n",
       "      <td>301</td>\n",
       "      <td>0</td>\n",
       "      <td>GitHub</td>\n",
       "      <td>Redirected</td>\n",
       "      <td>1</td>\n",
       "    </tr>\n",
       "    <tr>\n",
       "      <th>42</th>\n",
       "      <td>abstract</td>\n",
       "      <td>Bioinformatics</td>\n",
       "      <td>23178637.0</td>\n",
       "      <td>2013</td>\n",
       "      <td>https://github.com/bioclipse</td>\n",
       "      <td>301</td>\n",
       "      <td>0</td>\n",
       "      <td>GitHub</td>\n",
       "      <td>Redirected</td>\n",
       "      <td>1</td>\n",
       "    </tr>\n",
       "    <tr>\n",
       "      <th>54</th>\n",
       "      <td>abstract</td>\n",
       "      <td>BMC_Genomics</td>\n",
       "      <td>24564637.0</td>\n",
       "      <td>2013</td>\n",
       "      <td>http://www.github.com/zhandong/Logit-Lapnet</td>\n",
       "      <td>301</td>\n",
       "      <td>0</td>\n",
       "      <td>GitHub</td>\n",
       "      <td>Redirected</td>\n",
       "      <td>1</td>\n",
       "    </tr>\n",
       "  </tbody>\n",
       "</table>\n",
       "</div>"
      ],
      "text/plain": [
       "        type            journal          id  year  \\\n",
       "3   abstract   PLoS_Comput_Biol  28212402.0  2017   \n",
       "4   abstract     Bioinformatics  28130230.0  2017   \n",
       "5   abstract  Nucleic_Acids_Res  20935049.0  2011   \n",
       "42  abstract     Bioinformatics  23178637.0  2013   \n",
       "54  abstract       BMC_Genomics  24564637.0  2013   \n",
       "\n",
       "                                           link  code  flag.uniqueness  \\\n",
       "3          https://dongjunchung.github.io/GGPA/   301                0   \n",
       "4            https://github.com/bfosso/MetaShot   301                0   \n",
       "5                             http://github.com   301                0   \n",
       "42                 https://github.com/bioclipse   301                0   \n",
       "54  http://www.github.com/zhandong/Logit-Lapnet   301                0   \n",
       "\n",
       "    source      status  binary_status  \n",
       "3   GitHub  Redirected              1  \n",
       "4   GitHub  Redirected              1  \n",
       "5   GitHub  Redirected              1  \n",
       "42  GitHub  Redirected              1  \n",
       "54  GitHub  Redirected              1  "
      ]
     },
     "execution_count": 242,
     "metadata": {},
     "output_type": "execute_result"
    }
   ],
   "source": [
    "links_size = links.groupby(['source', ]).size()\n",
    "\n",
    "# print links_size[0], links_size[1], links_size[2]\n",
    "# links_size.head()\n",
    "\n",
    "links[links.source=='GitHub'].head()"
   ]
  },
  {
   "cell_type": "code",
   "execution_count": 254,
   "metadata": {},
   "outputs": [
    {
     "data": {
      "text/html": [
       "<div>\n",
       "<style scoped>\n",
       "    .dataframe tbody tr th:only-of-type {\n",
       "        vertical-align: middle;\n",
       "    }\n",
       "\n",
       "    .dataframe tbody tr th {\n",
       "        vertical-align: top;\n",
       "    }\n",
       "\n",
       "    .dataframe thead th {\n",
       "        text-align: right;\n",
       "    }\n",
       "</style>\n",
       "<table border=\"1\" class=\"dataframe\">\n",
       "  <thead>\n",
       "    <tr style=\"text-align: right;\">\n",
       "      <th></th>\n",
       "      <th>source</th>\n",
       "      <th>binary_status</th>\n",
       "      <th>count</th>\n",
       "    </tr>\n",
       "  </thead>\n",
       "  <tbody>\n",
       "    <tr>\n",
       "      <th>0</th>\n",
       "      <td>GitHub</td>\n",
       "      <td>0</td>\n",
       "      <td>29</td>\n",
       "    </tr>\n",
       "    <tr>\n",
       "      <th>1</th>\n",
       "      <td>GitHub</td>\n",
       "      <td>1</td>\n",
       "      <td>2308</td>\n",
       "    </tr>\n",
       "    <tr>\n",
       "      <th>2</th>\n",
       "      <td>Other</td>\n",
       "      <td>0</td>\n",
       "      <td>11869</td>\n",
       "    </tr>\n",
       "    <tr>\n",
       "      <th>3</th>\n",
       "      <td>Other</td>\n",
       "      <td>1</td>\n",
       "      <td>32977</td>\n",
       "    </tr>\n",
       "    <tr>\n",
       "      <th>4</th>\n",
       "      <td>SourceForge</td>\n",
       "      <td>0</td>\n",
       "      <td>48</td>\n",
       "    </tr>\n",
       "    <tr>\n",
       "      <th>5</th>\n",
       "      <td>SourceForge</td>\n",
       "      <td>1</td>\n",
       "      <td>1161</td>\n",
       "    </tr>\n",
       "  </tbody>\n",
       "</table>\n",
       "</div>"
      ],
      "text/plain": [
       "        source  binary_status  count\n",
       "0       GitHub              0     29\n",
       "1       GitHub              1   2308\n",
       "2        Other              0  11869\n",
       "3        Other              1  32977\n",
       "4  SourceForge              0     48\n",
       "5  SourceForge              1   1161"
      ]
     },
     "execution_count": 254,
     "metadata": {},
     "output_type": "execute_result"
    }
   ],
   "source": [
    "links_status_size = pd.DataFrame({'count' : links.groupby(['source','binary_status', ]).size()}).reset_index()\n",
    "links_github_size = links_status_size[links_status_size['source']=='GitHub']\n",
    "links_sf_size = links_status_size[links_status_size['source']=='SourceForge']\n",
    "links_other_size = links_status_size[links_status_size['source']=='Other']\n",
    "\n",
    "\n",
    "links_status_size.head(100)"
   ]
  },
  {
   "cell_type": "code",
   "execution_count": 256,
   "metadata": {},
   "outputs": [
    {
     "data": {
      "image/png": "[encoded data removed]",
      "text/plain": [
       "<Figure size 432x288 with 1 Axes>"
      ]
     },
     "metadata": {},
     "output_type": "display_data"
    }
   ],
   "source": [
    "mpl.rcParams['font.size'] = 18\n",
    "labels = [i for i in links_size.index]\n",
    "sizes = [i for i in links_size]\n",
    "values = [my_colors.blue, my_colors.orange, my_colors.green]\n",
    "fig1, ax1 = pl.subplots()\n",
    "\n",
    "ax1.set_title(\"Package Managers\", fontsize=20)\n",
    "patches, texts, autotexts= ax1.pie(sizes, labels=labels, autopct='%1.1f%%',\n",
    "        shadow=True, startangle=90, colors = values)\n",
    "ax1.axis('equal')  # Equal aspect ratio ensures that pie is drawn as a circle.\n",
    "texts[0].set_fontsize(18)\n",
    "texts[1].set_fontsize(18)\n",
    "texts[2].set_fontsize(18)\n",
    "pl.show()\n",
    "\n",
    "\n",
    "# pl.savefig('Figures_2/Difficulty_pie.pdf')"
   ]
  },
  {
   "cell_type": "code",
   "execution_count": 258,
   "metadata": {},
   "outputs": [
    {
     "ename": "IndexError",
     "evalue": "list index out of range",
     "output_type": "error",
     "traceback": [
      "\u001b[1;31m---------------------------------------------------------------------------\u001b[0m",
      "\u001b[1;31mIndexError\u001b[0m                                Traceback (most recent call last)",
      "\u001b[1;32m<ipython-input-258-06052d7ad6ca>\u001b[0m in \u001b[0;36m<module>\u001b[1;34m()\u001b[0m\n\u001b[0;32m     11\u001b[0m \u001b[0mtexts\u001b[0m\u001b[1;33m[\u001b[0m\u001b[1;36m0\u001b[0m\u001b[1;33m]\u001b[0m\u001b[1;33m.\u001b[0m\u001b[0mset_fontsize\u001b[0m\u001b[1;33m(\u001b[0m\u001b[1;36m18\u001b[0m\u001b[1;33m)\u001b[0m\u001b[1;33m\u001b[0m\u001b[0m\n\u001b[0;32m     12\u001b[0m \u001b[0mtexts\u001b[0m\u001b[1;33m[\u001b[0m\u001b[1;36m1\u001b[0m\u001b[1;33m]\u001b[0m\u001b[1;33m.\u001b[0m\u001b[0mset_fontsize\u001b[0m\u001b[1;33m(\u001b[0m\u001b[1;36m18\u001b[0m\u001b[1;33m)\u001b[0m\u001b[1;33m\u001b[0m\u001b[0m\n\u001b[1;32m---> 13\u001b[1;33m \u001b[0mtexts\u001b[0m\u001b[1;33m[\u001b[0m\u001b[1;36m2\u001b[0m\u001b[1;33m]\u001b[0m\u001b[1;33m.\u001b[0m\u001b[0mset_fontsize\u001b[0m\u001b[1;33m(\u001b[0m\u001b[1;36m18\u001b[0m\u001b[1;33m)\u001b[0m\u001b[1;33m\u001b[0m\u001b[0m\n\u001b[0m\u001b[0;32m     14\u001b[0m \u001b[0mpl\u001b[0m\u001b[1;33m.\u001b[0m\u001b[0mshow\u001b[0m\u001b[1;33m(\u001b[0m\u001b[1;33m)\u001b[0m\u001b[1;33m\u001b[0m\u001b[0m\n",
      "\u001b[1;31mIndexError\u001b[0m: list index out of range"
     ]
    },
    {
     "data": {
      "image/png": "[encoded data removed]",
      "text/plain": [
       "<Figure size 432x288 with 1 Axes>"
      ]
     },
     "metadata": {},
     "output_type": "display_data"
    }
   ],
   "source": [
    "mpl.rcParams['font.size'] = 18\n",
    "labels = [i for i in list(links_github_size.binary_status)]\n",
    "sizes = [i for i in list(links_github_size['count'])]\n",
    "values = [my_colors.blue, my_colors.orange, my_colors.green, my_colors.red]\n",
    "fig1, ax1 = pl.subplots()\n",
    "\n",
    "ax1.set_title(\"Github\\n\", fontsize=20)\n",
    "patches, texts, autotexts= ax1.pie(sizes, labels=labels, autopct='%1.1f%%',\n",
    "        shadow=True, startangle=90, colors = values)\n",
    "ax1.axis('equal')  # Equal aspect ratio ensures that pie is drawn as a circle.\n",
    "texts[0].set_fontsize(18)\n",
    "texts[1].set_fontsize(18)\n",
    "texts[2].set_fontsize(18)\n",
    "pl.show()\n"
   ]
  },
  {
   "cell_type": "code",
   "execution_count": 259,
   "metadata": {},
   "outputs": [
    {
     "ename": "IndexError",
     "evalue": "list index out of range",
     "output_type": "error",
     "traceback": [
      "\u001b[1;31m---------------------------------------------------------------------------\u001b[0m",
      "\u001b[1;31mIndexError\u001b[0m                                Traceback (most recent call last)",
      "\u001b[1;32m<ipython-input-259-b8f58b5bb3b6>\u001b[0m in \u001b[0;36m<module>\u001b[1;34m()\u001b[0m\n\u001b[0;32m     11\u001b[0m \u001b[0mtexts\u001b[0m\u001b[1;33m[\u001b[0m\u001b[1;36m0\u001b[0m\u001b[1;33m]\u001b[0m\u001b[1;33m.\u001b[0m\u001b[0mset_fontsize\u001b[0m\u001b[1;33m(\u001b[0m\u001b[1;36m18\u001b[0m\u001b[1;33m)\u001b[0m\u001b[1;33m\u001b[0m\u001b[0m\n\u001b[0;32m     12\u001b[0m \u001b[0mtexts\u001b[0m\u001b[1;33m[\u001b[0m\u001b[1;36m1\u001b[0m\u001b[1;33m]\u001b[0m\u001b[1;33m.\u001b[0m\u001b[0mset_fontsize\u001b[0m\u001b[1;33m(\u001b[0m\u001b[1;36m18\u001b[0m\u001b[1;33m)\u001b[0m\u001b[1;33m\u001b[0m\u001b[0m\n\u001b[1;32m---> 13\u001b[1;33m \u001b[0mtexts\u001b[0m\u001b[1;33m[\u001b[0m\u001b[1;36m2\u001b[0m\u001b[1;33m]\u001b[0m\u001b[1;33m.\u001b[0m\u001b[0mset_fontsize\u001b[0m\u001b[1;33m(\u001b[0m\u001b[1;36m18\u001b[0m\u001b[1;33m)\u001b[0m\u001b[1;33m\u001b[0m\u001b[0m\n\u001b[0m\u001b[0;32m     14\u001b[0m \u001b[0mpl\u001b[0m\u001b[1;33m.\u001b[0m\u001b[0mshow\u001b[0m\u001b[1;33m(\u001b[0m\u001b[1;33m)\u001b[0m\u001b[1;33m\u001b[0m\u001b[0m\n",
      "\u001b[1;31mIndexError\u001b[0m: list index out of range"
     ]
    },
    {
     "data": {
      "image/png": "[encoded data removed]",
      "text/plain": [
       "<Figure size 432x288 with 1 Axes>"
      ]
     },
     "metadata": {},
     "output_type": "display_data"
    }
   ],
   "source": [
    "mpl.rcParams['font.size'] = 18\n",
    "labels = [i for i in list(links_sf_size.binary_status)]\n",
    "sizes = [i for i in list(links_sf_size['count'])]\n",
    "values = [my_colors.blue, my_colors.orange, my_colors.green, my_colors.red]\n",
    "fig1, ax1 = pl.subplots()\n",
    "\n",
    "ax1.set_title(\"SourceForge\\n\", fontsize=20)\n",
    "patches, texts, autotexts= ax1.pie(sizes, labels=labels, autopct='%1.1f%%',\n",
    "        shadow=True, startangle=90, colors = values)\n",
    "ax1.axis('equal')  # Equal aspect ratio ensures that pie is drawn as a circle.\n",
    "texts[0].set_fontsize(18)\n",
    "texts[1].set_fontsize(18)\n",
    "texts[2].set_fontsize(18)\n",
    "pl.show()"
   ]
  },
  {
   "cell_type": "code",
   "execution_count": 260,
   "metadata": {},
   "outputs": [
    {
     "ename": "IndexError",
     "evalue": "list index out of range",
     "output_type": "error",
     "traceback": [
      "\u001b[1;31m---------------------------------------------------------------------------\u001b[0m",
      "\u001b[1;31mIndexError\u001b[0m                                Traceback (most recent call last)",
      "\u001b[1;32m<ipython-input-260-d9af20a760f0>\u001b[0m in \u001b[0;36m<module>\u001b[1;34m()\u001b[0m\n\u001b[0;32m     11\u001b[0m \u001b[0mtexts\u001b[0m\u001b[1;33m[\u001b[0m\u001b[1;36m0\u001b[0m\u001b[1;33m]\u001b[0m\u001b[1;33m.\u001b[0m\u001b[0mset_fontsize\u001b[0m\u001b[1;33m(\u001b[0m\u001b[1;36m18\u001b[0m\u001b[1;33m)\u001b[0m\u001b[1;33m\u001b[0m\u001b[0m\n\u001b[0;32m     12\u001b[0m \u001b[0mtexts\u001b[0m\u001b[1;33m[\u001b[0m\u001b[1;36m1\u001b[0m\u001b[1;33m]\u001b[0m\u001b[1;33m.\u001b[0m\u001b[0mset_fontsize\u001b[0m\u001b[1;33m(\u001b[0m\u001b[1;36m18\u001b[0m\u001b[1;33m)\u001b[0m\u001b[1;33m\u001b[0m\u001b[0m\n\u001b[1;32m---> 13\u001b[1;33m \u001b[0mtexts\u001b[0m\u001b[1;33m[\u001b[0m\u001b[1;36m2\u001b[0m\u001b[1;33m]\u001b[0m\u001b[1;33m.\u001b[0m\u001b[0mset_fontsize\u001b[0m\u001b[1;33m(\u001b[0m\u001b[1;36m18\u001b[0m\u001b[1;33m)\u001b[0m\u001b[1;33m\u001b[0m\u001b[0m\n\u001b[0m\u001b[0;32m     14\u001b[0m \u001b[0mpl\u001b[0m\u001b[1;33m.\u001b[0m\u001b[0mshow\u001b[0m\u001b[1;33m(\u001b[0m\u001b[1;33m)\u001b[0m\u001b[1;33m\u001b[0m\u001b[0m\n",
      "\u001b[1;31mIndexError\u001b[0m: list index out of range"
     ]
    },
    {
     "data": {
      "image/png": "[encoded data removed]",
      "text/plain": [
       "<Figure size 432x288 with 1 Axes>"
      ]
     },
     "metadata": {},
     "output_type": "display_data"
    }
   ],
   "source": [
    "mpl.rcParams['font.size'] = 18\n",
    "labels = [i for i in list(links_other_size.binary_status)]\n",
    "sizes = [i for i in list(links_other_size['count'])]\n",
    "values = [my_colors.blue, my_colors.orange, my_colors.green, my_colors.red]\n",
    "fig1, ax1 = pl.subplots()\n",
    "\n",
    "ax1.set_title(\"Other\\n\", fontsize=20)\n",
    "patches, texts, autotexts= ax1.pie(sizes, labels=labels, autopct='%1.1f%%',\n",
    "        shadow=True, startangle=90, colors = values)\n",
    "ax1.axis('equal')  # Equal aspect ratio ensures that pie is drawn as a circle.\n",
    "texts[0].set_fontsize(18)\n",
    "texts[1].set_fontsize(18)\n",
    "texts[2].set_fontsize(18)\n",
    "pl.show()"
   ]
  },
  {
   "cell_type": "code",
   "execution_count": 248,
   "metadata": {},
   "outputs": [
    {
     "data": {
      "text/html": [
       "<div>\n",
       "<style scoped>\n",
       "    .dataframe tbody tr th:only-of-type {\n",
       "        vertical-align: middle;\n",
       "    }\n",
       "\n",
       "    .dataframe tbody tr th {\n",
       "        vertical-align: top;\n",
       "    }\n",
       "\n",
       "    .dataframe thead th {\n",
       "        text-align: right;\n",
       "    }\n",
       "</style>\n",
       "<table border=\"1\" class=\"dataframe\">\n",
       "  <thead>\n",
       "    <tr style=\"text-align: right;\">\n",
       "      <th></th>\n",
       "      <th>source</th>\n",
       "      <th>year</th>\n",
       "      <th>count</th>\n",
       "    </tr>\n",
       "  </thead>\n",
       "  <tbody>\n",
       "    <tr>\n",
       "      <th>0</th>\n",
       "      <td>GitHub</td>\n",
       "      <td>2009</td>\n",
       "      <td>2</td>\n",
       "    </tr>\n",
       "    <tr>\n",
       "      <th>1</th>\n",
       "      <td>GitHub</td>\n",
       "      <td>2010</td>\n",
       "      <td>17</td>\n",
       "    </tr>\n",
       "    <tr>\n",
       "      <th>2</th>\n",
       "      <td>GitHub</td>\n",
       "      <td>2011</td>\n",
       "      <td>21</td>\n",
       "    </tr>\n",
       "    <tr>\n",
       "      <th>3</th>\n",
       "      <td>GitHub</td>\n",
       "      <td>2012</td>\n",
       "      <td>56</td>\n",
       "    </tr>\n",
       "    <tr>\n",
       "      <th>4</th>\n",
       "      <td>GitHub</td>\n",
       "      <td>2013</td>\n",
       "      <td>107</td>\n",
       "    </tr>\n",
       "  </tbody>\n",
       "</table>\n",
       "</div>"
      ],
      "text/plain": [
       "   source  year  count\n",
       "0  GitHub  2009      2\n",
       "1  GitHub  2010     17\n",
       "2  GitHub  2011     21\n",
       "3  GitHub  2012     56\n",
       "4  GitHub  2013    107"
      ]
     },
     "execution_count": 248,
     "metadata": {},
     "output_type": "execute_result"
    }
   ],
   "source": [
    "links_year_size = pd.DataFrame({'count' : links.groupby( [ \"source\", \"year\", ] ).size()}).reset_index()\n",
    "links_year_size.head()\n"
   ]
  },
  {
   "cell_type": "code",
   "execution_count": 252,
   "metadata": {},
   "outputs": [
    {
     "name": "stdout",
     "output_type": "stream",
     "text": [
      "[2L, 17L, 21L, 56L, 107L, 283L, 500L, 677L, 674L]\n",
      "[69L, 105L, 238L, 293L, 396L, 2327L, 2174L, 2122L, 2757L, 3775L, 3820L, 3498L, 3583L, 3930L, 4793L, 4149L, 3826L, 2991L]\n",
      "[1L, 6L, 1L, 8L, 33L, 52L, 41L, 62L, 90L, 120L, 102L, 139L, 106L, 153L, 122L, 112L, 61L]\n",
      "(0.0, 0.0, 100.0)\n",
      "(0.9433962264150944, 0.0, 99.05660377358491)\n",
      "(2.459016393442623, 0.0, 97.54098360655738)\n",
      "(0.3401360544217687, 0.0, 99.65986394557824)\n",
      "(1.9801980198019802, 0.0, 98.01980198019803)\n",
      "(1.3983050847457628, 0.0, 98.60169491525423)\n",
      "(2.336028751123091, 0.0, 97.66397124887692)\n",
      "(1.8955154877484977, 0.0, 98.1044845122515)\n",
      "(2.199361475700603, 0.0, 97.8006385242994)\n",
      "(2.3273855702094646, 0.0517196793379881, 97.62089475045255)\n",
      "(3.0326004548900682, 0.429618397776093, 96.53778114733383)\n",
      "(2.8169014084507045, 0.579950289975145, 96.60314830157415)\n",
      "(3.679195341450503, 1.4822657490735838, 94.83853890947591)\n",
      "(2.5585324643977794, 2.5826695631185133, 94.85879797248371)\n",
      "(2.9259896729776247, 5.4121246892331225, 91.66188563778925)\n",
      "(2.5571159086145463, 10.479983232026829, 86.96290085935863)\n",
      "(2.426868905742145, 14.669555796316361, 82.90357529794149)\n",
      "(1.6371443907675791, 18.089103596349972, 80.27375201288245)\n",
      "\n",
      "[0.0, 0.0, 0.0, 0.0, 0.0, 0.0, 0.0, 0.0, 0.0, 0.000517196793379881, 0.00429618397776093, 0.00579950289975145, 0.014822657490735839, 0.025826695631185132, 0.05412124689233123, 0.1047998323202683, 0.1466955579631636, 0.18089103596349973]\n",
      "[1.0, 0.9905660377358491, 0.9754098360655737, 0.9965986394557823, 0.9801980198019802, 0.9860169491525423, 0.9766397124887691, 0.981044845122515, 0.978006385242994, 0.9762089475045255, 0.9653778114733383, 0.9660314830157415, 0.9483853890947591, 0.9485879797248371, 0.9166188563778925, 0.8696290085935863, 0.8290357529794149, 0.8027375201288245]\n",
      "[0.0, 0.009433962264150943, 0.02459016393442623, 0.003401360544217687, 0.019801980198019802, 0.013983050847457627, 0.02336028751123091, 0.018955154877484975, 0.02199361475700603, 0.023273855702094646, 0.030326004548900682, 0.028169014084507043, 0.03679195341450503, 0.025585324643977794, 0.029259896729776247, 0.025571159086145462, 0.024268689057421453, 0.01637144390767579]\n"
     ]
    }
   ],
   "source": [
    "links_year_size_status = pd.DataFrame({'count' : links.groupby( [ \"source\", \"year\", \"binary_status\"] ).size()}).reset_index()\n",
    "\n",
    "links_year_size_status.head()\n",
    "\n",
    "stacked_barplot = pd.DataFrame({'count': links.groupby ([\"year\",\"source\"]).size()}).reset_index()\n",
    "stacked_barplot.head()\n",
    "\n",
    "\n",
    "github = [i for i in stacked_barplot[stacked_barplot.source=='GitHub']['count']]\n",
    "other = [i for i in stacked_barplot[stacked_barplot.source=='Other']['count']]\n",
    "sourceforge = [i for i in stacked_barplot[stacked_barplot.source=='SourceForge']['count']]\n",
    "\n",
    "\n",
    "print (github)\n",
    "print (other)\n",
    "print (sourceforge)\n",
    "\n",
    "for i in range(len(other) - len(github)):\n",
    "    github = [0] + github\n",
    "    \n",
    "for i in range(len(other) - len(sourceforge)):\n",
    "    sourceforge = [0] + sourceforge\n",
    "    \n",
    "all = [x + y + z for x, y, z in zip(other, sourceforge, github)]\n",
    "\n",
    "github = [x/y for x,y in zip(github, all)]\n",
    "sourceforge = [x/y for x,y in zip(sourceforge, all)]\n",
    "other = [x/y for x,y in zip(other, all)]\n",
    "\n",
    "\n",
    "for x,y,z in zip(sourceforge, github, other):\n",
    "    print (x *100, y*100, z*100)\n",
    "\n",
    "print ('')\n",
    "print (github)\n",
    "print (other)\n",
    "print (sourceforge)"
   ]
  },
  {
   "cell_type": "code",
   "execution_count": 250,
   "metadata": {},
   "outputs": [
    {
     "name": "stdout",
     "output_type": "stream",
     "text": [
      "[2000 2001 2002 2003 2004 2005 2006 2007 2008 2009 2010 2011 2012 2013 2014\n",
      " 2015 2016 2017]\n"
     ]
    },
    {
     "data": {
      "image/png": "[encoded data removed]",
      "text/plain": [
       "<Figure size 432x288 with 1 Axes>"
      ]
     },
     "metadata": {},
     "output_type": "display_data"
    }
   ],
   "source": [
    "\n",
    "ind = np.arange(2000,2018,1)    # the x locations for the groups\n",
    "print ind\n",
    "width = 0.35       # the width of the bars: can also be len(x) sequence\n",
    "\n",
    "\n",
    "p1 = plt.bar(ind, github, width, color=my_colors.green)\n",
    "    \n",
    "p2 = plt.bar(ind, sourceforge, width, color=my_colors.orange,\n",
    "             bottom=github)\n",
    "\n",
    "p3 = plt.bar(ind, other, width, color=my_colors.red,\n",
    "             bottom=np.array(sourceforge)+np.array(github))\n",
    "\n",
    "plt.ylabel('Proportion of Tools')\n",
    "plt.xlabel('Years')\n",
    "plt.title('summary of Tools Over Time')\n",
    "plt.xticks(ind)\n",
    "# plt.yticks(np.arange(0, 1.0, 0.1))\n",
    "plt.legend((p1[0], p2[0], p3[0]), ind)\n",
    "# plt.ylim(ymax=1.0)\n",
    "plt.show()"
   ]
  },
  {
   "cell_type": "code",
   "execution_count": null,
   "metadata": {},
   "outputs": [],
   "source": [
    "\n"
   ]
  },
  {
   "cell_type": "code",
   "execution_count": 253,
   "metadata": {},
   "outputs": [
    {
     "data": {
      "text/plain": [
       "<seaborn.axisgrid.FacetGrid at 0x1a71bd50>"
      ]
     },
     "execution_count": 253,
     "metadata": {},
     "output_type": "execute_result"
    },
    {
     "data": {
      "image/png": "[encoded data removed]",
      "text/plain": [
       "<Figure size 1058.4x595.44 with 1 Axes>"
      ]
     },
     "metadata": {},
     "output_type": "display_data"
    },
    {
     "data": {
      "image/png": "[encoded data removed]",
      "text/plain": [
       "<Figure size 538.3x360 with 1 Axes>"
      ]
     },
     "metadata": {},
     "output_type": "display_data"
    }
   ],
   "source": [
    "a4_dims = (14.7, 8.27)\n",
    "fig, ax = mpl.pyplot.subplots(figsize=a4_dims)\n",
    "\n",
    "sns.catplot(ax = ax, x=\"year\", y=\"count\", hue=\"source\",\n",
    "                capsize=.2, palette=\"YlGnBu_d\",\n",
    "                kind=\"point\", data=links_year_size)"
   ]
  },
  {
   "cell_type": "code",
   "execution_count": 198,
   "metadata": {},
   "outputs": [],
   "source": [
    "# a4_dims = (11.7, 8.27)\n",
    "# fig, ax = mpl.pyplot.subplots(figsize=a4_dims)\n",
    "\n",
    "# sns.catplot(ax = ax, x=\"year\", y=\"count\", hue=\"binary_status\",\n",
    "#                 capsize=.2, palette=\"YlGnBu_d\",\n",
    "#                 kind=\"point\", data=links_year_size_status[links_year_size_status.source==\"GitHub\"])"
   ]
  },
  {
   "cell_type": "code",
   "execution_count": 199,
   "metadata": {},
   "outputs": [],
   "source": [
    "# a4_dims = (11.7, 8.27)\n",
    "# fig, ax = mpl.pyplot.subplots(figsize=a4_dims)\n",
    "\n",
    "# sns.catplot(ax = ax, x=\"year\", y=\"count\", hue=\"binary_status\",\n",
    "#                 capsize=.2, palette=\"YlGnBu_d\",\n",
    "#                 kind=\"point\", data=links_year_size_status[links_year_size_status.source==\"SourceForge\"])"
   ]
  },
  {
   "cell_type": "code",
   "execution_count": 200,
   "metadata": {},
   "outputs": [],
   "source": [
    "# a4_dims = (11.7, 8.27)\n",
    "# fig, ax = mpl.pyplot.subplots(figsize=a4_dims)\n",
    "\n",
    "# sns.catplot(ax = ax, x=\"year\", y=\"count\", hue=\"binary_status\",\n",
    "#                 capsize=.2, palette=\"YlGnBu_d\",\n",
    "#                 kind=\"point\", data=links_year_size_status[links_year_size_status.source==\"Other\"])"
   ]
  },
  {
   "cell_type": "code",
   "execution_count": null,
   "metadata": {},
   "outputs": [],
   "source": []
  },
  {
   "cell_type": "code",
   "execution_count": 172,
   "metadata": {},
   "outputs": [
    {
     "data": {
      "text/html": [
       "<div>\n",
       "<style scoped>\n",
       "    .dataframe tbody tr th:only-of-type {\n",
       "        vertical-align: middle;\n",
       "    }\n",
       "\n",
       "    .dataframe tbody tr th {\n",
       "        vertical-align: top;\n",
       "    }\n",
       "\n",
       "    .dataframe thead th {\n",
       "        text-align: right;\n",
       "    }\n",
       "</style>\n",
       "<table border=\"1\" class=\"dataframe\">\n",
       "  <thead>\n",
       "    <tr style=\"text-align: right;\">\n",
       "      <th></th>\n",
       "      <th>type</th>\n",
       "      <th>journal</th>\n",
       "      <th>id</th>\n",
       "      <th>year</th>\n",
       "      <th>link</th>\n",
       "      <th>code</th>\n",
       "      <th>flag.uniqueness</th>\n",
       "      <th>source</th>\n",
       "      <th>status</th>\n",
       "      <th>binary_status</th>\n",
       "    </tr>\n",
       "  </thead>\n",
       "  <tbody>\n",
       "    <tr>\n",
       "      <th>0</th>\n",
       "      <td>abstract</td>\n",
       "      <td>Nucleic_Acids_Res</td>\n",
       "      <td>23155066.0</td>\n",
       "      <td>2013</td>\n",
       "      <td>http://www.netlab.uky.edu/p/bioinfo/DiffSplice</td>\n",
       "      <td>200</td>\n",
       "      <td>0</td>\n",
       "      <td>Other</td>\n",
       "      <td>Good</td>\n",
       "      <td>1</td>\n",
       "    </tr>\n",
       "    <tr>\n",
       "      <th>1</th>\n",
       "      <td>abstract</td>\n",
       "      <td>Bioinformatics</td>\n",
       "      <td>27273673.0</td>\n",
       "      <td>2017</td>\n",
       "      <td>http://www.cs.helsinki.fi/u/lmsalmel/LoRMA/</td>\n",
       "      <td>302</td>\n",
       "      <td>0</td>\n",
       "      <td>Other</td>\n",
       "      <td>Redirected</td>\n",
       "      <td>1</td>\n",
       "    </tr>\n",
       "    <tr>\n",
       "      <th>2</th>\n",
       "      <td>abstract</td>\n",
       "      <td>BMC_Bioinformatics</td>\n",
       "      <td>20492656.0</td>\n",
       "      <td>2010</td>\n",
       "      <td>http://www.cse.univdhaka.edu/~ashis/ppred/inde...</td>\n",
       "      <td>301</td>\n",
       "      <td>0</td>\n",
       "      <td>Other</td>\n",
       "      <td>Redirected</td>\n",
       "      <td>1</td>\n",
       "    </tr>\n",
       "    <tr>\n",
       "      <th>3</th>\n",
       "      <td>abstract</td>\n",
       "      <td>PLoS_Comput_Biol</td>\n",
       "      <td>28212402.0</td>\n",
       "      <td>2017</td>\n",
       "      <td>https://dongjunchung.github.io/GGPA/</td>\n",
       "      <td>301</td>\n",
       "      <td>0</td>\n",
       "      <td>GitHub</td>\n",
       "      <td>Redirected</td>\n",
       "      <td>1</td>\n",
       "    </tr>\n",
       "    <tr>\n",
       "      <th>4</th>\n",
       "      <td>abstract</td>\n",
       "      <td>Bioinformatics</td>\n",
       "      <td>28130230.0</td>\n",
       "      <td>2017</td>\n",
       "      <td>https://github.com/bfosso/MetaShot</td>\n",
       "      <td>301</td>\n",
       "      <td>0</td>\n",
       "      <td>GitHub</td>\n",
       "      <td>Redirected</td>\n",
       "      <td>1</td>\n",
       "    </tr>\n",
       "  </tbody>\n",
       "</table>\n",
       "</div>"
      ],
      "text/plain": [
       "       type             journal          id  year  \\\n",
       "0  abstract   Nucleic_Acids_Res  23155066.0  2013   \n",
       "1  abstract      Bioinformatics  27273673.0  2017   \n",
       "2  abstract  BMC_Bioinformatics  20492656.0  2010   \n",
       "3  abstract    PLoS_Comput_Biol  28212402.0  2017   \n",
       "4  abstract      Bioinformatics  28130230.0  2017   \n",
       "\n",
       "                                                link  code  flag.uniqueness  \\\n",
       "0     http://www.netlab.uky.edu/p/bioinfo/DiffSplice   200                0   \n",
       "1        http://www.cs.helsinki.fi/u/lmsalmel/LoRMA/   302                0   \n",
       "2  http://www.cse.univdhaka.edu/~ashis/ppred/inde...   301                0   \n",
       "3               https://dongjunchung.github.io/GGPA/   301                0   \n",
       "4                 https://github.com/bfosso/MetaShot   301                0   \n",
       "\n",
       "   source      status  binary_status  \n",
       "0   Other        Good              1  \n",
       "1   Other  Redirected              1  \n",
       "2   Other  Redirected              1  \n",
       "3  GitHub  Redirected              1  \n",
       "4  GitHub  Redirected              1  "
      ]
     },
     "execution_count": 172,
     "metadata": {},
     "output_type": "execute_result"
    }
   ],
   "source": [
    "links.head()"
   ]
  },
  {
   "cell_type": "code",
   "execution_count": 186,
   "metadata": {},
   "outputs": [
    {
     "name": "stdout",
     "output_type": "stream",
     "text": [
      "   source  binary_status  count\n",
      "0  GitHub              0     29\n",
      "1  GitHub              1   2308\n"
     ]
    },
    {
     "data": {
      "text/html": [
       "<div>\n",
       "<style scoped>\n",
       "    .dataframe tbody tr th:only-of-type {\n",
       "        vertical-align: middle;\n",
       "    }\n",
       "\n",
       "    .dataframe tbody tr th {\n",
       "        vertical-align: top;\n",
       "    }\n",
       "\n",
       "    .dataframe thead th {\n",
       "        text-align: right;\n",
       "    }\n",
       "</style>\n",
       "<table border=\"1\" class=\"dataframe\">\n",
       "  <thead>\n",
       "    <tr style=\"text-align: right;\">\n",
       "      <th></th>\n",
       "      <th>source</th>\n",
       "      <th>binary_status</th>\n",
       "      <th>count</th>\n",
       "    </tr>\n",
       "  </thead>\n",
       "  <tbody>\n",
       "    <tr>\n",
       "      <th>0</th>\n",
       "      <td>GitHub</td>\n",
       "      <td>0</td>\n",
       "      <td>29</td>\n",
       "    </tr>\n",
       "    <tr>\n",
       "      <th>1</th>\n",
       "      <td>GitHub</td>\n",
       "      <td>1</td>\n",
       "      <td>2308</td>\n",
       "    </tr>\n",
       "    <tr>\n",
       "      <th>2</th>\n",
       "      <td>Other</td>\n",
       "      <td>0</td>\n",
       "      <td>11869</td>\n",
       "    </tr>\n",
       "    <tr>\n",
       "      <th>3</th>\n",
       "      <td>Other</td>\n",
       "      <td>1</td>\n",
       "      <td>32977</td>\n",
       "    </tr>\n",
       "    <tr>\n",
       "      <th>4</th>\n",
       "      <td>SourceForge</td>\n",
       "      <td>0</td>\n",
       "      <td>48</td>\n",
       "    </tr>\n",
       "    <tr>\n",
       "      <th>5</th>\n",
       "      <td>SourceForge</td>\n",
       "      <td>1</td>\n",
       "      <td>1161</td>\n",
       "    </tr>\n",
       "  </tbody>\n",
       "</table>\n",
       "</div>"
      ],
      "text/plain": [
       "        source  binary_status  count\n",
       "0       GitHub              0     29\n",
       "1       GitHub              1   2308\n",
       "2        Other              0  11869\n",
       "3        Other              1  32977\n",
       "4  SourceForge              0     48\n",
       "5  SourceForge              1   1161"
      ]
     },
     "execution_count": 186,
     "metadata": {},
     "output_type": "execute_result"
    }
   ],
   "source": [
    "github_bin = links[links['source']=='GitHub']\n",
    "other_bin = links[links['source']=='Other']\n",
    "sourcefor_bin = links[links['source']=='SourceForge']\n",
    "\n",
    "# fischer = links.groupby(['source', 'binary_status', ]).count()\n",
    "fisher = pd.DataFrame({'count' : links.groupby(['source', 'binary_status', ]).size()}).reset_index()\n",
    "fisher_gh = fisher[fisher.source=='GitHub']\n",
    "fisher_sf = fisher[fisher.source=='SourceForge']\n",
    "fisher_oth = fisher[fisher.source=='Other']\n",
    "\n",
    "print (fisher_gh)\n",
    "\n",
    "fisher.head(10)"
   ]
  },
  {
   "cell_type": "markdown",
   "metadata": {},
   "source": [
    "## Statistical Analysis \n",
    "\n",
    "### https://docs.scipy.org/doc/scipy-0.14.0/reference/generated/scipy.stats.fisher_exact.html"
   ]
  },
  {
   "cell_type": "code",
   "execution_count": 195,
   "metadata": {},
   "outputs": [
    {
     "name": "stdout",
     "output_type": "stream",
     "text": [
      "(0.03491075231590151, 2.1108319487687653e-250)\n",
      "(0.3039157279029463, 3.3784879825792969e-07)\n"
     ]
    }
   ],
   "source": [
    "s_test_gh_v_oth = stats.fisher_exact([list(fisher_gh['count']), \n",
    "                             list(fisher_oth['count'])])\n",
    "\n",
    "s_test_gh_v_sf = stats.fisher_exact([list(fisher_gh['count']), \n",
    "                             list(fisher_sf['count'])])\n",
    "\n",
    "print s_test_gh_v_oth\n",
    "print s_test_gh_v_sf"
   ]
  },
  {
   "cell_type": "code",
   "execution_count": null,
   "metadata": {},
   "outputs": [],
   "source": []
  },
  {
   "cell_type": "code",
   "execution_count": null,
   "metadata": {},
   "outputs": [],
   "source": []
  }
 ],
 "metadata": {
  "kernelspec": {
   "display_name": "Python 2",
   "language": "python",
   "name": "python2"
  },
  "language_info": {
   "codemirror_mode": {
    "name": "ipython",
    "version": 2
   },
   "file_extension": ".py",
   "mimetype": "text/x-python",
   "name": "python",
   "nbconvert_exporter": "python",
   "pygments_lexer": "ipython2",
   "version": "2.7.13"
  }
 },
 "nbformat": 4,
 "nbformat_minor": 2
}
