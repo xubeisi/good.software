{
 "cells": [
  {
   "cell_type": "markdown",
   "metadata": {},
   "source": [
    "# Good Software - analysis notebook 2\n",
    "## Reproducting all panels for Figure 2\n",
    "\n",
    "This notebook contains all Python code necessary to reproduce all panels from the Figure 2 of our paper.\n",
    "\n",
    "**Github**: https://github.com/smangul1/good.software\n",
    "\n",
    "**Manuscript**:\n",
    "    \n",
    "Inspired by Thiago Mosqueiro"
   ]
  },
  {
   "cell_type": "markdown",
   "metadata": {},
   "source": [
    "### Importing Libraries"
   ]
  },
  {
   "cell_type": "code",
   "execution_count": 345,
   "metadata": {},
   "outputs": [],
   "source": [
    "from __future__ import division\n",
    "import pylab as pl\n",
    "import numpy as np\n",
    "import pandas as pd\n",
    "import matplotlib.pyplot as plt\n",
    "from scipy import stats\n",
    "import math\n",
    "import seaborn as sns  #be sure version >=0.9"
   ]
  },
  {
   "cell_type": "markdown",
   "metadata": {},
   "source": [
    "### Importing and Parsing Data"
   ]
  },
  {
   "cell_type": "code",
   "execution_count": 346,
   "metadata": {},
   "outputs": [
    {
     "data": {
      "text/html": [
       "<div>\n",
       "<style scoped>\n",
       "    .dataframe tbody tr th:only-of-type {\n",
       "        vertical-align: middle;\n",
       "    }\n",
       "\n",
       "    .dataframe tbody tr th {\n",
       "        vertical-align: top;\n",
       "    }\n",
       "\n",
       "    .dataframe thead th {\n",
       "        text-align: right;\n",
       "    }\n",
       "</style>\n",
       "<table border=\"1\" class=\"dataframe\">\n",
       "  <thead>\n",
       "    <tr style=\"text-align: right;\">\n",
       "      <th></th>\n",
       "      <th>Unnamed: 0</th>\n",
       "      <th>ID</th>\n",
       "      <th>Domain</th>\n",
       "      <th>Journal of Molecular Diagnostics</th>\n",
       "      <th>Year</th>\n",
       "      <th>Lapsed</th>\n",
       "      <th>Language</th>\n",
       "      <th>Update</th>\n",
       "      <th>Source</th>\n",
       "      <th>Source Control</th>\n",
       "      <th>...</th>\n",
       "      <th>Citations</th>\n",
       "      <th>Normalized citations</th>\n",
       "      <th>Releases</th>\n",
       "      <th>Error. Hard codding. Broken invalid link. Yes/No</th>\n",
       "      <th>Outdated Dependency</th>\n",
       "      <th>Commands</th>\n",
       "      <th>Commands Listed</th>\n",
       "      <th>Time To Install</th>\n",
       "      <th>Difficulty Status</th>\n",
       "      <th>Example Provided</th>\n",
       "    </tr>\n",
       "  </thead>\n",
       "  <tbody>\n",
       "    <tr>\n",
       "      <th>0</th>\n",
       "      <td>1</td>\n",
       "      <td>mp1</td>\n",
       "      <td>mapping</td>\n",
       "      <td>Genome Biology</td>\n",
       "      <td>2009</td>\n",
       "      <td>10</td>\n",
       "      <td>C++</td>\n",
       "      <td>2017</td>\n",
       "      <td>Bioconda</td>\n",
       "      <td>Y</td>\n",
       "      <td>...</td>\n",
       "      <td>11226</td>\n",
       "      <td>1122.600000</td>\n",
       "      <td>30.0</td>\n",
       "      <td>N</td>\n",
       "      <td>N</td>\n",
       "      <td>1.0</td>\n",
       "      <td>1.0</td>\n",
       "      <td>5</td>\n",
       "      <td>2</td>\n",
       "      <td>Y</td>\n",
       "    </tr>\n",
       "    <tr>\n",
       "      <th>1</th>\n",
       "      <td>2</td>\n",
       "      <td>mp2</td>\n",
       "      <td>mapping</td>\n",
       "      <td>Bioinformatics</td>\n",
       "      <td>2013</td>\n",
       "      <td>6</td>\n",
       "      <td>C++</td>\n",
       "      <td>2017</td>\n",
       "      <td>Bioconda</td>\n",
       "      <td>Y</td>\n",
       "      <td>...</td>\n",
       "      <td>83</td>\n",
       "      <td>13.833333</td>\n",
       "      <td>36.0</td>\n",
       "      <td>N</td>\n",
       "      <td>N</td>\n",
       "      <td>1.0</td>\n",
       "      <td>1.0</td>\n",
       "      <td>5</td>\n",
       "      <td>2</td>\n",
       "      <td>Y</td>\n",
       "    </tr>\n",
       "    <tr>\n",
       "      <th>2</th>\n",
       "      <td>3</td>\n",
       "      <td>mp3</td>\n",
       "      <td>mapping</td>\n",
       "      <td>Bioinformatics</td>\n",
       "      <td>2012</td>\n",
       "      <td>7</td>\n",
       "      <td>C++</td>\n",
       "      <td>2014</td>\n",
       "      <td>Bioconda</td>\n",
       "      <td>N</td>\n",
       "      <td>...</td>\n",
       "      <td>36</td>\n",
       "      <td>5.142857</td>\n",
       "      <td>16.0</td>\n",
       "      <td>N</td>\n",
       "      <td>N</td>\n",
       "      <td>1.0</td>\n",
       "      <td>1.0</td>\n",
       "      <td>5</td>\n",
       "      <td>2</td>\n",
       "      <td>Y</td>\n",
       "    </tr>\n",
       "    <tr>\n",
       "      <th>3</th>\n",
       "      <td>4</td>\n",
       "      <td>mp4</td>\n",
       "      <td>mapping</td>\n",
       "      <td>Genome Biology</td>\n",
       "      <td>2004</td>\n",
       "      <td>15</td>\n",
       "      <td>C++</td>\n",
       "      <td>2017</td>\n",
       "      <td>Bioconda</td>\n",
       "      <td>N</td>\n",
       "      <td>...</td>\n",
       "      <td>2448</td>\n",
       "      <td>163.200000</td>\n",
       "      <td>7.0</td>\n",
       "      <td>N</td>\n",
       "      <td>N</td>\n",
       "      <td>1.0</td>\n",
       "      <td>1.0</td>\n",
       "      <td>5</td>\n",
       "      <td>2</td>\n",
       "      <td>Y</td>\n",
       "    </tr>\n",
       "    <tr>\n",
       "      <th>4</th>\n",
       "      <td>5</td>\n",
       "      <td>mp5</td>\n",
       "      <td>mapping</td>\n",
       "      <td>Bioinformatics</td>\n",
       "      <td>2009</td>\n",
       "      <td>10</td>\n",
       "      <td>C</td>\n",
       "      <td>2011</td>\n",
       "      <td>Bioconda</td>\n",
       "      <td>N</td>\n",
       "      <td>...</td>\n",
       "      <td>2474</td>\n",
       "      <td>247.400000</td>\n",
       "      <td>12.0</td>\n",
       "      <td>N</td>\n",
       "      <td>N</td>\n",
       "      <td>1.0</td>\n",
       "      <td>1.0</td>\n",
       "      <td>15</td>\n",
       "      <td>2</td>\n",
       "      <td>Y</td>\n",
       "    </tr>\n",
       "  </tbody>\n",
       "</table>\n",
       "<p>5 rows × 21 columns</p>\n",
       "</div>"
      ],
      "text/plain": [
       "   Unnamed: 0   ID   Domain Journal of Molecular Diagnostics  Year  Lapsed   \\\n",
       "0           1  mp1  mapping                   Genome Biology  2009       10   \n",
       "1           2  mp2  mapping                   Bioinformatics  2013        6   \n",
       "2           3  mp3  mapping                   Bioinformatics  2012        7   \n",
       "3           4  mp4  mapping                   Genome Biology  2004       15   \n",
       "4           5  mp5  mapping                   Bioinformatics  2009       10   \n",
       "\n",
       "  Language Update   Source  Source Control        ...        Citations  \\\n",
       "0      C++   2017  Bioconda              Y        ...            11226   \n",
       "1      C++   2017  Bioconda              Y        ...               83   \n",
       "2      C++   2014  Bioconda              N        ...               36   \n",
       "3      C++   2017  Bioconda              N        ...             2448   \n",
       "4        C   2011  Bioconda              N        ...             2474   \n",
       "\n",
       "   Normalized citations  Releases  \\\n",
       "0           1122.600000      30.0   \n",
       "1             13.833333      36.0   \n",
       "2              5.142857      16.0   \n",
       "3            163.200000       7.0   \n",
       "4            247.400000      12.0   \n",
       "\n",
       "   Error. Hard codding. Broken invalid link. Yes/No Outdated Dependency  \\\n",
       "0                                                 N                   N   \n",
       "1                                                 N                   N   \n",
       "2                                                 N                   N   \n",
       "3                                                 N                   N   \n",
       "4                                                 N                   N   \n",
       "\n",
       "  Commands  Commands Listed  Time To Install  Difficulty Status  \\\n",
       "0      1.0              1.0                5                  2   \n",
       "1      1.0              1.0                5                  2   \n",
       "2      1.0              1.0                5                  2   \n",
       "3      1.0              1.0                5                  2   \n",
       "4      1.0              1.0               15                  2   \n",
       "\n",
       "   Example Provided  \n",
       "0                 Y  \n",
       "1                 Y  \n",
       "2                 Y  \n",
       "3                 Y  \n",
       "4                 Y  \n",
       "\n",
       "[5 rows x 21 columns]"
      ]
     },
     "execution_count": 346,
     "metadata": {},
     "output_type": "execute_result"
    }
   ],
   "source": [
    "data = pd.read_csv('usability/usability_cleaned_data.csv')\n",
    "data.head()"
   ]
  },
  {
   "cell_type": "markdown",
   "metadata": {},
   "source": [
    "### Clean Column Names for Filtering"
   ]
  },
  {
   "cell_type": "code",
   "execution_count": 347,
   "metadata": {},
   "outputs": [
    {
     "name": "stdout",
     "output_type": "stream",
     "text": [
      "Index([u'Unnamed:_0', u'ID', u'Domain', u'Journal_of_Molecular_Diagnostics',\n",
      "       u'Year', u'Lapsed_', u'Language', u'Update', u'Source_',\n",
      "       u'Source_Control', u'Reason', u'Citations', u'Normalized_citations',\n",
      "       u'Releases', u'Error._Hard_codding._Broken_invalid_link._Yes/No',\n",
      "       u'Outdated_Dependency', u'Commands', u'Commands_Listed',\n",
      "       u'Time_To_Install', u'Difficulty_Status', u'Example_Provided'],\n",
      "      dtype='object')\n"
     ]
    }
   ],
   "source": [
    "data.columns = [c.replace(' ', '_') for c in data.columns]\n",
    "print data.columns"
   ]
  },
  {
   "cell_type": "code",
   "execution_count": 348,
   "metadata": {},
   "outputs": [
    {
     "name": "stdout",
     "output_type": "stream",
     "text": [
      "<class 'pandas.core.frame.DataFrame'>\n",
      "RangeIndex: 98 entries, 0 to 97\n",
      "Data columns (total 21 columns):\n",
      "Unnamed:_0                                          98 non-null int64\n",
      "ID                                                  98 non-null object\n",
      "Domain                                              98 non-null object\n",
      "Journal_of_Molecular_Diagnostics                    98 non-null object\n",
      "Year                                                98 non-null int64\n",
      "Lapsed_                                             98 non-null int64\n",
      "Language                                            91 non-null object\n",
      "Update                                              88 non-null object\n",
      "Source_                                             98 non-null object\n",
      "Source_Control                                      98 non-null object\n",
      "Reason                                              22 non-null object\n",
      "Citations                                           98 non-null int64\n",
      "Normalized_citations                                98 non-null float64\n",
      "Releases                                            53 non-null float64\n",
      "Error._Hard_codding._Broken_invalid_link._Yes/No    98 non-null object\n",
      "Outdated_Dependency                                 98 non-null object\n",
      "Commands                                            83 non-null float64\n",
      "Commands_Listed                                     81 non-null float64\n",
      "Time_To_Install                                     98 non-null int64\n",
      "Difficulty_Status                                   98 non-null int64\n",
      "Example_Provided                                    98 non-null object\n",
      "dtypes: float64(4), int64(6), object(11)\n",
      "memory usage: 11.9+ KB\n"
     ]
    }
   ],
   "source": [
    "data.info()"
   ]
  },
  {
   "cell_type": "markdown",
   "metadata": {},
   "source": [
    "## FIGURE A: Overview of Tools based on Installation Difficulty"
   ]
  },
  {
   "cell_type": "code",
   "execution_count": 349,
   "metadata": {},
   "outputs": [],
   "source": [
    "# Summary for Impossible Install\n",
    "dif_status = data[(data.Difficulty_Status==0)]\n",
    "length = len(dif_status.index)\n",
    "\n",
    "dif_5_15_time = dif_status[(dif_status.Time_To_Install >= 0) & (dif_status.Time_To_Install <= 15)]\n",
    "dif_30_60_time = dif_status[(dif_status.Time_To_Install >= 30) & (dif_status.Time_To_Install < 60)]\n",
    "dif_60_time = dif_status[(dif_status.Time_To_Install >= 60)]\n",
    "\n",
    "dif_ex_y = dif_status[(dif_status.Example_Provided == 'Y')]\n",
    "dif_ex_n = dif_status[(dif_status.Example_Provided == 'N')]\n",
    "\n",
    "dif_auto = dif_status[(dif_status.Commands == dif_status.Commands_Listed)]"
   ]
  },
  {
   "cell_type": "code",
   "execution_count": 350,
   "metadata": {},
   "outputs": [
    {
     "name": "stdout",
     "output_type": "stream",
     "text": [
      "(0.25925925925925924, 0.6296296296296297, 0.2222222222222222)\n",
      "(0, 0, 0.14814814814814814)\n",
      "(0.7407407407407407, 0.37037037037037035, 0.6296296296296297)\n"
     ]
    },
    {
     "data": {
      "image/png": "[encoded data removed]",
      "text/plain": [
       "<Figure size 432x288 with 1 Axes>"
      ]
     },
     "metadata": {},
     "output_type": "display_data"
    }
   ],
   "source": [
    "#pos 1 will be User Intervention Required\n",
    "#pos 2 will be Example Provided\n",
    "#pos 3 will be Time bins\n",
    "N = 3\n",
    "\n",
    "green = (len(dif_auto.index)/length, len(dif_ex_y.index)/length, len(dif_5_15_time.index)/length)\n",
    "print green\n",
    "\n",
    "yellow = (0, 0, len(dif_30_60_time.index)/length)\n",
    "print yellow\n",
    "\n",
    "red = ((length-len(dif_auto.index))/length,\n",
    "         len(dif_ex_n.index)/length,\n",
    "         len(dif_60_time.index)/length)\n",
    "print red\n",
    "\n",
    "\n",
    "\n",
    "ind = np.arange(N)    # the x locations for the groups\n",
    "width = 0.35       # the width of the bars: can also be len(x) sequence\n",
    "\n",
    "p1 = plt.bar(ind, green, width, color='green')\n",
    "p2 = plt.bar(ind, yellow, width, color='orange',\n",
    "             bottom=green)\n",
    "p3 = plt.bar(ind, red, width, color='red',\n",
    "             bottom=np.array(yellow)+np.array(green))\n",
    "\n",
    "plt.ylabel('Proportion of Tools')\n",
    "plt.xlabel('Tool Features')\n",
    "plt.title('Summary of \"Impossible\" Tools')\n",
    "plt.xticks(ind, ('Auto Installation', 'Example Provided', 'Installation Time'))\n",
    "plt.yticks(np.arange(0, 1.0, 0.1))\n",
    "plt.legend((p1[0], p2[0], p3[0]), ('Yes or 5-15 Minutes', '30-60 Minutes', 'No or > 60 mins'))\n",
    "plt.ylim(ymax=1.0)\n",
    "plt.show()"
   ]
  },
  {
   "cell_type": "code",
   "execution_count": 351,
   "metadata": {},
   "outputs": [],
   "source": [
    "# Summary for Impossible Install\n",
    "dif_status = data[(data.Difficulty_Status==1)]\n",
    "length = len(dif_status.index)\n",
    "\n",
    "dif_5_15_time = dif_status[(dif_status.Time_To_Install >= 0) & (dif_status.Time_To_Install <= 15)]\n",
    "dif_30_60_time = dif_status[(dif_status.Time_To_Install >= 30) & (dif_status.Time_To_Install < 60)]\n",
    "dif_60_time = dif_status[(dif_status.Time_To_Install >= 60)]\n",
    "\n",
    "dif_ex_y = dif_status[(dif_status.Example_Provided == 'Y')]\n",
    "dif_ex_n = dif_status[(dif_status.Example_Provided == 'N')]\n",
    "\n",
    "dif_auto = dif_status[(dif_status.Commands == dif_status.Commands_Listed)]"
   ]
  },
  {
   "cell_type": "code",
   "execution_count": 352,
   "metadata": {},
   "outputs": [
    {
     "name": "stdout",
     "output_type": "stream",
     "text": [
      "(0.14285714285714285, 0.7619047619047619, 0.0)\n",
      "(0, 0, 0.3333333333333333)\n",
      "(0.8571428571428571, 0.23809523809523808, 0.6666666666666666)\n"
     ]
    },
    {
     "data": {
      "image/png": "[encoded data removed]",
      "text/plain": [
       "<Figure size 432x288 with 1 Axes>"
      ]
     },
     "metadata": {},
     "output_type": "display_data"
    }
   ],
   "source": [
    "#pos 1 will be User Intervention Required\n",
    "#pos 2 will be Example Provided\n",
    "#pos 3 will be Time bins\n",
    "N = 3\n",
    "\n",
    "green = (len(dif_auto.index)/length, len(dif_ex_y.index)/length, len(dif_5_15_time.index)/length)\n",
    "print green\n",
    "\n",
    "yellow = (0, 0, len(dif_30_60_time.index)/length)\n",
    "print yellow\n",
    "\n",
    "red = ((length-len(dif_auto.index))/length,\n",
    "         len(dif_ex_n.index)/length,\n",
    "         len(dif_60_time.index)/length)\n",
    "print red\n",
    "\n",
    "\n",
    "\n",
    "ind = np.arange(N)    # the x locations for the groups\n",
    "width = 0.35       # the width of the bars: can also be len(x) sequence\n",
    "\n",
    "p1 = plt.bar(ind, green, width, color='green')\n",
    "p2 = plt.bar(ind, yellow, width, color='orange',\n",
    "             bottom=green)\n",
    "p3 = plt.bar(ind, red, width, color='red',\n",
    "             bottom=np.array(yellow)+np.array(green))\n",
    "\n",
    "plt.ylabel('Proportion of Tools')\n",
    "plt.xlabel('Tool Features')\n",
    "plt.title('Summary of \"Hard\" Tools')\n",
    "plt.xticks(ind, ('Auto Installation', 'Example Provided', 'Installation Time'))\n",
    "plt.yticks(np.arange(0, 1.0, 0.1))\n",
    "plt.legend((p1[0], p2[0], p3[0]), ('Yes or 5-15 Minutes', '30-60 Minutes', 'No or > 60 mins'))\n",
    "plt.ylim(ymax=1.0)\n",
    "plt.show()"
   ]
  },
  {
   "cell_type": "code",
   "execution_count": 353,
   "metadata": {},
   "outputs": [],
   "source": [
    "# Summary for Impossible Install\n",
    "dif_status = data[(data.Difficulty_Status==2)]\n",
    "length = len(dif_status.index)\n",
    "\n",
    "dif_5_15_time = dif_status[(dif_status.Time_To_Install >= 0) & (dif_status.Time_To_Install <= 15)]\n",
    "dif_30_60_time = dif_status[(dif_status.Time_To_Install >= 30) & (dif_status.Time_To_Install < 60)]\n",
    "dif_60_time = dif_status[(dif_status.Time_To_Install >= 60)]\n",
    "\n",
    "dif_ex_y = dif_status[(dif_status.Example_Provided == 'Y')]\n",
    "dif_ex_n = dif_status[(dif_status.Example_Provided == 'N')]\n",
    "\n",
    "dif_auto = dif_status[(dif_status.Commands == dif_status.Commands_Listed)]"
   ]
  },
  {
   "cell_type": "code",
   "execution_count": 354,
   "metadata": {},
   "outputs": [
    {
     "name": "stdout",
     "output_type": "stream",
     "text": [
      "(0.78, 0.68, 1.0)\n",
      "(0, 0, 0.0)\n",
      "(0.22, 0.32, 0.0)\n"
     ]
    },
    {
     "data": {
      "image/png": "[encoded data removed]",
      "text/plain": [
       "<Figure size 432x288 with 1 Axes>"
      ]
     },
     "metadata": {},
     "output_type": "display_data"
    }
   ],
   "source": [
    "#pos 1 will be User Intervention Required\n",
    "#pos 2 will be Example Provided\n",
    "#pos 3 will be Time bins\n",
    "N = 3\n",
    "\n",
    "green = (len(dif_auto.index)/length, len(dif_ex_y.index)/length, len(dif_5_15_time.index)/length)\n",
    "print green\n",
    "\n",
    "yellow = (0, 0, len(dif_30_60_time.index)/length)\n",
    "print yellow\n",
    "\n",
    "red = ((length-len(dif_auto.index))/length,\n",
    "         len(dif_ex_n.index)/length,\n",
    "         len(dif_60_time.index)/length)\n",
    "print red\n",
    "\n",
    "\n",
    "\n",
    "ind = np.arange(N)    # the x locations for the groups\n",
    "width = 0.35       # the width of the bars: can also be len(x) sequence\n",
    "\n",
    "p1 = plt.bar(ind, green, width, color='green')\n",
    "p2 = plt.bar(ind, yellow, width, color='orange',\n",
    "             bottom=green)\n",
    "p3 = plt.bar(ind, red, width, color='red',\n",
    "             bottom=np.array(yellow)+np.array(green))\n",
    "\n",
    "plt.ylabel('Proportion of Tools')\n",
    "plt.xlabel('Tool Features')\n",
    "plt.title('Summary of \"Easy\" Tools')\n",
    "plt.xticks(ind, ('Auto Installation', 'Example Provided', 'Installation Time'))\n",
    "plt.yticks(np.arange(0, 1.0, 0.1))\n",
    "plt.legend((p1[0], p2[0], p3[0]), ('Yes or 5-15 Minutes', '30-60 Minutes', 'No or > 60 mins'))\n",
    "plt.ylim(ymax=1.0)\n",
    "plt.show()"
   ]
  },
  {
   "cell_type": "markdown",
   "metadata": {},
   "source": [
    "## FIGURE B: Summary Pie Charts of the Data\n",
    "### FIGURE B.1: Complex, Easy, and Not Installed"
   ]
  },
  {
   "cell_type": "code",
   "execution_count": 355,
   "metadata": {},
   "outputs": [
    {
     "data": {
      "image/png": "[encoded data removed]",
      "text/plain": [
       "<Figure size 432x288 with 1 Axes>"
      ]
     },
     "metadata": {},
     "output_type": "display_data"
    }
   ],
   "source": [
    "statuses = np.array(data[\"Difficulty_Status\"])\n",
    "\n",
    "\n",
    "f, ax = pl.subplots(1, 1)\n",
    "ax.hist(statuses, np.arange(-1.5,6,1), edgecolor=(0.2,0.2,0.2), lw=3, \n",
    "            color=(0.2,0.6,1.0))\n",
    "\n",
    "ax.set_ylabel('Count')\n",
    "ax.set_xticks([0, 1, 2])\n",
    "ax.set_xticklabels( ['Impossible', 'Hard', 'Easy'], rotation=-45 )\n",
    "\n",
    "pl.show()"
   ]
  },
  {
   "cell_type": "code",
   "execution_count": 356,
   "metadata": {},
   "outputs": [
    {
     "data": {
      "text/plain": [
       "Difficulty_Status\n",
       "0    27\n",
       "1    21\n",
       "2    50\n",
       "dtype: int64"
      ]
     },
     "execution_count": 356,
     "metadata": {},
     "output_type": "execute_result"
    }
   ],
   "source": [
    "#Lets get some data for a piechart regarding if Example is Provided\n",
    "dif_status = data.groupby(['Difficulty_Status',]).size()\n",
    "dif_status.head()"
   ]
  },
  {
   "cell_type": "code",
   "execution_count": 357,
   "metadata": {},
   "outputs": [
    {
     "data": {
      "image/png": "[encoded data removed]",
      "text/plain": [
       "<Figure size 432x288 with 1 Axes>"
      ]
     },
     "metadata": {},
     "output_type": "display_data"
    }
   ],
   "source": [
    "\n",
    "labels = ['Impossible', 'Hard', 'Easy']\n",
    "sizes = [dif_status[0], dif_status[1], dif_status[2]]\n",
    "values = ['red', 'orange', 'green']\n",
    "fig1, ax1 = pl.subplots()\n",
    "\n",
    "# ax1.set_fontsize(18)\n",
    "ax1.set_title(\"Installation Difficulty\", fontsize=20)\n",
    "ax1.pie(sizes, labels=labels, autopct='%1.1f%%',\n",
    "        shadow=True, startangle=90, colors = values)\n",
    "ax1.axis('equal')  # Equal aspect ratio ensures that pie is drawn as a circle.\n",
    "pl.show()"
   ]
  },
  {
   "cell_type": "markdown",
   "metadata": {},
   "source": [
    "### FIGURE B.2: Automatic Installation Test??"
   ]
  },
  {
   "cell_type": "code",
   "execution_count": 358,
   "metadata": {},
   "outputs": [
    {
     "name": "stdout",
     "output_type": "stream",
     "text": [
      "42\n"
     ]
    }
   ],
   "source": [
    "#This means #commands == number listed and that installation was not impossible\n",
    "#My numbers are not quite matching up with the original Figure 2 images.\n",
    "pass_status = data[(data.Difficulty_Status!=0) & (data.Commands==data.Commands_Listed)]\n",
    "pass_status.head()\n",
    "print len(pass_status.index)"
   ]
  },
  {
   "cell_type": "code",
   "execution_count": 359,
   "metadata": {},
   "outputs": [
    {
     "name": "stdout",
     "output_type": "stream",
     "text": [
      "56\n"
     ]
    }
   ],
   "source": [
    "fail_status = data[(data.Difficulty_Status==0) | (data.Commands!=data.Commands_Listed)]\n",
    "fail_status.head()\n",
    "print len(fail_status.index)"
   ]
  },
  {
   "cell_type": "code",
   "execution_count": 360,
   "metadata": {},
   "outputs": [
    {
     "data": {
      "image/png": "[encoded data removed]",
      "text/plain": [
       "<Figure size 432x288 with 1 Axes>"
      ]
     },
     "metadata": {},
     "output_type": "display_data"
    }
   ],
   "source": [
    "labels = ['Passed', 'Failed']\n",
    "sizes = [len(pass_status.index), len(fail_status.index)]\n",
    "values = ['green', 'red']\n",
    "fig1, ax1 = pl.subplots()\n",
    "\n",
    "# ax1.set_fontsize(18)\n",
    "ax1.set_title(\"Automatic Installation Test\", fontsize=20)\n",
    "ax1.pie(sizes, labels=labels, autopct='%1.1f%%',\n",
    "        shadow=True, startangle=90, colors = values)\n",
    "ax1.axis('equal')  # Equal aspect ratio ensures that pie is drawn as a circle.\n",
    "\n",
    "pl.show()"
   ]
  },
  {
   "cell_type": "markdown",
   "metadata": {},
   "source": [
    "### FIGURE B.3: Example Provided"
   ]
  },
  {
   "cell_type": "code",
   "execution_count": 361,
   "metadata": {},
   "outputs": [
    {
     "name": "stdout",
     "output_type": "stream",
     "text": [
      "Example_Provided\n",
      "N    31\n",
      "Y    67\n",
      "dtype: int64\n"
     ]
    }
   ],
   "source": [
    "#Lets get clean some data for a piechart regarding if Example is Provided\n",
    "ex_prov_pie = data.groupby(['Example_Provided',]).size()\n",
    "print ex_prov_pie"
   ]
  },
  {
   "cell_type": "code",
   "execution_count": 362,
   "metadata": {},
   "outputs": [
    {
     "data": {
      "image/png": "[encoded data removed]",
      "text/plain": [
       "<Figure size 432x288 with 1 Axes>"
      ]
     },
     "metadata": {},
     "output_type": "display_data"
    }
   ],
   "source": [
    "labels = ['No', 'Yes']\n",
    "sizes = [ex_prov_pie[0], ex_prov_pie[1]]\n",
    "values = ['red', 'green']\n",
    "fig1, ax1 = pl.subplots()\n",
    "\n",
    "# ax1.set_fontsize(18)\n",
    "ax1.set_title(\"Tools with Example Provided\", fontsize=20)\n",
    "ax1.pie(sizes, labels=labels, autopct='%1.1f%%',\n",
    "        shadow=True, startangle=90, colors = values)\n",
    "ax1.axis('equal')  # Equal aspect ratio ensures that pie is drawn as a circle.\n",
    "pl.show()"
   ]
  },
  {
   "cell_type": "markdown",
   "metadata": {},
   "source": [
    "## FIGURE C: Statistical Significance of Citations based on Difficulty of Installation"
   ]
  },
  {
   "cell_type": "code",
   "execution_count": 363,
   "metadata": {},
   "outputs": [
    {
     "data": {
      "text/html": [
       "<div>\n",
       "<style scoped>\n",
       "    .dataframe tbody tr th:only-of-type {\n",
       "        vertical-align: middle;\n",
       "    }\n",
       "\n",
       "    .dataframe tbody tr th {\n",
       "        vertical-align: top;\n",
       "    }\n",
       "\n",
       "    .dataframe thead th {\n",
       "        text-align: right;\n",
       "    }\n",
       "</style>\n",
       "<table border=\"1\" class=\"dataframe\">\n",
       "  <thead>\n",
       "    <tr style=\"text-align: right;\">\n",
       "      <th></th>\n",
       "      <th>Unnamed:_0</th>\n",
       "      <th>Year</th>\n",
       "      <th>Lapsed_</th>\n",
       "      <th>Citations</th>\n",
       "      <th>Normalized_citations</th>\n",
       "      <th>Releases</th>\n",
       "      <th>Commands</th>\n",
       "      <th>Commands_Listed</th>\n",
       "      <th>Time_To_Install</th>\n",
       "    </tr>\n",
       "    <tr>\n",
       "      <th>Difficulty_Status</th>\n",
       "      <th></th>\n",
       "      <th></th>\n",
       "      <th></th>\n",
       "      <th></th>\n",
       "      <th></th>\n",
       "      <th></th>\n",
       "      <th></th>\n",
       "      <th></th>\n",
       "      <th></th>\n",
       "    </tr>\n",
       "  </thead>\n",
       "  <tbody>\n",
       "    <tr>\n",
       "      <th>0</th>\n",
       "      <td>65.592593</td>\n",
       "      <td>2012.259259</td>\n",
       "      <td>6.740741</td>\n",
       "      <td>81.000000</td>\n",
       "      <td>10.385391</td>\n",
       "      <td>8.777778</td>\n",
       "      <td>18.866667</td>\n",
       "      <td>6.555556</td>\n",
       "      <td>82.222222</td>\n",
       "    </tr>\n",
       "    <tr>\n",
       "      <th>1</th>\n",
       "      <td>40.619048</td>\n",
       "      <td>2013.142857</td>\n",
       "      <td>5.857143</td>\n",
       "      <td>672.095238</td>\n",
       "      <td>89.462642</td>\n",
       "      <td>6.000000</td>\n",
       "      <td>12.350000</td>\n",
       "      <td>4.470588</td>\n",
       "      <td>78.571429</td>\n",
       "    </tr>\n",
       "    <tr>\n",
       "      <th>2</th>\n",
       "      <td>46.060000</td>\n",
       "      <td>2012.060000</td>\n",
       "      <td>6.940000</td>\n",
       "      <td>1061.100000</td>\n",
       "      <td>108.689726</td>\n",
       "      <td>14.181818</td>\n",
       "      <td>2.833333</td>\n",
       "      <td>2.760870</td>\n",
       "      <td>7.800000</td>\n",
       "    </tr>\n",
       "  </tbody>\n",
       "</table>\n",
       "</div>"
      ],
      "text/plain": [
       "                   Unnamed:_0         Year   Lapsed_    Citations  \\\n",
       "Difficulty_Status                                                   \n",
       "0                   65.592593  2012.259259  6.740741    81.000000   \n",
       "1                   40.619048  2013.142857  5.857143   672.095238   \n",
       "2                   46.060000  2012.060000  6.940000  1061.100000   \n",
       "\n",
       "                   Normalized_citations   Releases   Commands  \\\n",
       "Difficulty_Status                                               \n",
       "0                             10.385391   8.777778  18.866667   \n",
       "1                             89.462642   6.000000  12.350000   \n",
       "2                            108.689726  14.181818   2.833333   \n",
       "\n",
       "                   Commands_Listed  Time_To_Install  \n",
       "Difficulty_Status                                    \n",
       "0                         6.555556        82.222222  \n",
       "1                         4.470588        78.571429  \n",
       "2                         2.760870         7.800000  "
      ]
     },
     "execution_count": 363,
     "metadata": {},
     "output_type": "execute_result"
    }
   ],
   "source": [
    "#Lets get clean some data to get sums for the number of citations\n",
    "dif_status_mean = data.groupby(['Difficulty_Status',]).mean()\n",
    "dif_status_std = data.groupby(['Difficulty_Status',]).std()\n",
    "dif_status_size = data.groupby(['Difficulty_Status',]).size()\n",
    "dif_status_sum = data.groupby(['Difficulty_Status',]).sum()\n",
    "dif_status_mean.head()"
   ]
  },
  {
   "cell_type": "code",
   "execution_count": 364,
   "metadata": {},
   "outputs": [
    {
     "data": {
      "text/html": [
       "<div>\n",
       "<style scoped>\n",
       "    .dataframe tbody tr th:only-of-type {\n",
       "        vertical-align: middle;\n",
       "    }\n",
       "\n",
       "    .dataframe tbody tr th {\n",
       "        vertical-align: top;\n",
       "    }\n",
       "\n",
       "    .dataframe thead th {\n",
       "        text-align: right;\n",
       "    }\n",
       "</style>\n",
       "<table border=\"1\" class=\"dataframe\">\n",
       "  <thead>\n",
       "    <tr style=\"text-align: right;\">\n",
       "      <th></th>\n",
       "      <th>Unnamed:_0</th>\n",
       "      <th>Year</th>\n",
       "      <th>Lapsed_</th>\n",
       "      <th>Citations</th>\n",
       "      <th>Normalized_citations</th>\n",
       "      <th>Releases</th>\n",
       "      <th>Commands</th>\n",
       "      <th>Commands_Listed</th>\n",
       "      <th>Time_To_Install</th>\n",
       "    </tr>\n",
       "    <tr>\n",
       "      <th>Difficulty_Status</th>\n",
       "      <th></th>\n",
       "      <th></th>\n",
       "      <th></th>\n",
       "      <th></th>\n",
       "      <th></th>\n",
       "      <th></th>\n",
       "      <th></th>\n",
       "      <th></th>\n",
       "      <th></th>\n",
       "    </tr>\n",
       "  </thead>\n",
       "  <tbody>\n",
       "    <tr>\n",
       "      <th>0</th>\n",
       "      <td>21.175565</td>\n",
       "      <td>2.263296</td>\n",
       "      <td>2.263296</td>\n",
       "      <td>96.218102</td>\n",
       "      <td>11.287159</td>\n",
       "      <td>14.069273</td>\n",
       "      <td>47.485136</td>\n",
       "      <td>6.563914</td>\n",
       "      <td>50.617976</td>\n",
       "    </tr>\n",
       "    <tr>\n",
       "      <th>1</th>\n",
       "      <td>29.761512</td>\n",
       "      <td>1.878449</td>\n",
       "      <td>1.878449</td>\n",
       "      <td>2056.765663</td>\n",
       "      <td>229.439292</td>\n",
       "      <td>7.848567</td>\n",
       "      <td>12.145066</td>\n",
       "      <td>3.356293</td>\n",
       "      <td>41.867137</td>\n",
       "    </tr>\n",
       "    <tr>\n",
       "      <th>2</th>\n",
       "      <td>29.122829</td>\n",
       "      <td>2.951375</td>\n",
       "      <td>2.951375</td>\n",
       "      <td>2857.206065</td>\n",
       "      <td>287.123460</td>\n",
       "      <td>15.042553</td>\n",
       "      <td>2.754751</td>\n",
       "      <td>2.822015</td>\n",
       "      <td>4.535574</td>\n",
       "    </tr>\n",
       "  </tbody>\n",
       "</table>\n",
       "</div>"
      ],
      "text/plain": [
       "                   Unnamed:_0      Year   Lapsed_    Citations  \\\n",
       "Difficulty_Status                                                \n",
       "0                   21.175565  2.263296  2.263296    96.218102   \n",
       "1                   29.761512  1.878449  1.878449  2056.765663   \n",
       "2                   29.122829  2.951375  2.951375  2857.206065   \n",
       "\n",
       "                   Normalized_citations   Releases   Commands  \\\n",
       "Difficulty_Status                                               \n",
       "0                             11.287159  14.069273  47.485136   \n",
       "1                            229.439292   7.848567  12.145066   \n",
       "2                            287.123460  15.042553   2.754751   \n",
       "\n",
       "                   Commands_Listed  Time_To_Install  \n",
       "Difficulty_Status                                    \n",
       "0                         6.563914        50.617976  \n",
       "1                         3.356293        41.867137  \n",
       "2                         2.822015         4.535574  "
      ]
     },
     "execution_count": 364,
     "metadata": {},
     "output_type": "execute_result"
    }
   ],
   "source": [
    "dif_status_std.head()"
   ]
  },
  {
   "cell_type": "code",
   "execution_count": 365,
   "metadata": {},
   "outputs": [],
   "source": [
    "# Custom function to draw the diff bars\n",
    "def label_diff(i,j,text,X,Y):\n",
    "    x = (X[i]+X[j])/2\n",
    "    y = 1.1*max(Y[i], Y[j])\n",
    "    dx = abs(X[i]-X[j])\n",
    "\n",
    "    props = {'connectionstyle':'bar','arrowstyle':'-',\\\n",
    "                 'shrinkA':25,'shrinkB':25,'linewidth':1.5}\n",
    "    ax.annotate(text, xy=(X[i],y+7), zorder=10)\n",
    "    ax.annotate('', xy=(X[i],y), xytext=(X[j],y), arrowprops=props)"
   ]
  },
  {
   "cell_type": "code",
   "execution_count": 366,
   "metadata": {
    "scrolled": false
   },
   "outputs": [
    {
     "name": "stdout",
     "output_type": "stream",
     "text": [
      "0.0385426170573\n",
      "0.485458417866\n",
      "0.0988516868126\n"
     ]
    },
    {
     "data": {
      "image/png": "[encoded data removed]",
      "text/plain": [
       "<Figure size 432x288 with 1 Axes>"
      ]
     },
     "metadata": {},
     "output_type": "display_data"
    }
   ],
   "source": [
    "colors = ('red', 'orange', 'green')\n",
    "std     = [i for i in dif_status_std[\"Normalized_citations\"]]\n",
    "means   = [i for i in dif_status_mean[\"Normalized_citations\"]]\n",
    "ns = [i for i in dif_status_size]\n",
    "\n",
    "ind  = np.arange(3)    # the x locations for the groups\n",
    "width= 0.7\n",
    "labels = ('Impossible', 'Hard', 'Easy')\n",
    "\n",
    "# Pull the formatting out here\n",
    "bar_kwargs = {'width':width, 'color':'y', 'linewidth':2, 'zorder':5}\n",
    "err_kwargs = {'zorder':0, 'fmt':None, 'linewidth':2, 'ecolor':'k'}  #for matplotlib >= v1.4 use 'fmt':'none' instead\n",
    "\n",
    "fig, ax = plt.subplots()\n",
    "ax.p1 = plt.bar(ind, means, color=colors)\n",
    "\n",
    "# Impossible vs Hard \n",
    "p_value = stats.ks_2samp(data[(data.Difficulty_Status==0)].Normalized_citations.tolist(),\n",
    "                         data[(data.Difficulty_Status==1)].Normalized_citations.tolist())\n",
    "label_diff(0,1, 'P-Value: %.3f' %(p_value[1]), ind, means)\n",
    "print p_value[1]\n",
    "\n",
    "# Hard vs Easy\n",
    "p_value = stats.ks_2samp(data[(data.Difficulty_Status==1)].Normalized_citations.tolist(),\n",
    "                         data[(data.Difficulty_Status==2)].Normalized_citations.tolist())\n",
    "# label_diff(1,2,'P-Value: %.3f' %(p_value[1]), ind, means)\n",
    "print p_value[1]\n",
    "\n",
    "# Easy vs Impossible\n",
    "p_value = stats.ks_2samp(data[(data.Difficulty_Status==0)].Normalized_citations.tolist(),\n",
    "                         data[(data.Difficulty_Status==2)].Normalized_citations.tolist())\n",
    "# label_diff(0,2,'P-Value: %.3f' %(p_value[1]), ind, means)\n",
    "print p_value[1]\n",
    "\n",
    "\n",
    "plt.errorbar(ind, means, yerr=[x/math.sqrt(n) for x,n in zip(means,ns)], fmt='o', color='black')\n",
    "plt.ylim(ymax=200) \n",
    "# plt.title(\"Number of Citations Per Year Based on Tool Installation Difficulty\\n\", fontsize=14)\n",
    "plt.ylabel(\"Number of Citations Per Year\")\n",
    "plt.xlabel(\"Installation Difficulty\")\n",
    "plt.xticks(ind, labels, color='k')\n",
    "plt.show()"
   ]
  },
  {
   "cell_type": "code",
   "execution_count": 367,
   "metadata": {},
   "outputs": [
    {
     "name": "stdout",
     "output_type": "stream",
     "text": [
      "0.0385426170573\n"
     ]
    },
    {
     "data": {
      "image/png": "[encoded data removed]",
      "text/plain": [
       "<Figure size 360x360 with 1 Axes>"
      ]
     },
     "metadata": {},
     "output_type": "display_data"
    }
   ],
   "source": [
    "sns.catplot(x=\"Difficulty_Status\", y=\"Normalized_citations\", data=data, kind=\"box\", palette=['#F5B7B1', '#F9E79F', '#82E0AA'])\n",
    "\n",
    "sns.swarmplot(x=\"Difficulty_Status\", y=\"Normalized_citations\", palette=['red', 'orange', 'green'], size=3, data=data)\n",
    "\n",
    "\n",
    "x1, x2 = 0, 1\n",
    "y, h, col = 170, 2, 'k'\n",
    "plt.plot([x1, x1, x2, x2], [y, y+h, y+h, y], lw=1.5, c=col)\n",
    "\n",
    "# Impossible vs Hard (S)\n",
    "p_value = stats.ks_2samp(data[(data.Difficulty_Status == 0)].Normalized_citations.tolist(),\n",
    "                         data[(data.Difficulty_Status == 1)].Normalized_citations.tolist())\n",
    "print p_value[1]\n",
    "\n",
    "# Impossible vs Easy (NS)\n",
    "# p_value = stats.ks_2samp(data[(data.Difficulty_Status == 0)].Normalized_citations.tolist(),\n",
    "#                          data[(data.Difficulty_Status == 2)].Normalized_citations.tolist())\n",
    "# print p_value[1]\n",
    "\n",
    "# Hard vs Easy (NS)\n",
    "# p_value = stats.ks_2samp(data[(data.Difficulty_Status == 1)].Normalized_citations.tolist(),\n",
    "#                          data[(data.Difficulty_Status == 2)].Normalized_citations.tolist())\n",
    "# print p_value[1]\n",
    "\n",
    "plt.text((x1+x2)*.5, y+h, 'Pval: %.2f'%(p_value[1]), ha='center', va='bottom', color=col)\n",
    "\n",
    "plt.ylim(ymax=175) \n",
    "plt.ylim(ymin=0) \n",
    "plt.ylabel(\"Number of Citations Per Year\")\n",
    "plt.xlabel(\"Installation Difficulty\")\n",
    "plt.xticks(ind, labels, color='k')\n",
    "plt.show()"
   ]
  },
  {
   "cell_type": "markdown",
   "metadata": {},
   "source": [
    "## FIGURE D: Automatic Installation Test vs Installation Time"
   ]
  },
  {
   "cell_type": "code",
   "execution_count": 418,
   "metadata": {},
   "outputs": [
    {
     "data": {
      "image/png": "[encoded data removed]",
      "text/plain": [
       "<Figure size 432x288 with 1 Axes>"
      ]
     },
     "metadata": {},
     "output_type": "display_data"
    }
   ],
   "source": [
    "data[\"auto_test\"] = np.where((data.Difficulty_Status!=0) & (data.Commands==data.Commands_Listed),'Pass','Fail')\n",
    "\n",
    "sns.boxplot(x=\"auto_test\", y=\"Time_To_Install\", data=data, palette=['#82E0AA', '#F5B7B1'])\n",
    "sns.stripplot(x=\"auto_test\", y=\"Time_To_Install\", data=data, palette=['green', 'red'], jitter=0.05)\n",
    "\n",
    "x1, x2 = 0, 1\n",
    "y, h, col = data['Time_To_Install'].max() + 4, 2, 'k'\n",
    "plt.plot([x1, x1, x2, x2], [y, y+h, y+h, y], lw=1.5, c=col)\n",
    "\n",
    "p_value = stats.ks_2samp(data[(data.auto_test=='Fail')].Time_To_Install.tolist(),\n",
    "                         data[(data.auto_test=='Pass')].Time_To_Install.tolist())\n",
    "\n",
    "plt.text((x1+x2)*.5, y+h, 'Pval: %.10f'%(p_value[1]), ha='center', va='bottom', color=col)\n",
    "\n",
    "\n",
    "plt.ylim(ymin=0) \n",
    "plt.ylim(ymax=135) \n",
    "plt.xlabel(\"Automatic Installation Test\")\n",
    "plt.ylabel(\"Installation Time (Min)\")\n",
    "plt.xticks(ind, [\"Passed\", \"Failed\"], color='k')\n",
    "plt.show()"
   ]
  },
  {
   "cell_type": "code",
   "execution_count": null,
   "metadata": {},
   "outputs": [],
   "source": [
    "data[\"auto_test\"] = np.where((data.Difficulty_Status!=0) & (data.Commands==data.Commands_Listed),'Pass','Fail')\n",
    "\n",
    "sns.boxplot(x=\"auto_test\", y=\"Time_To_Install\", data=data, palette=['#82E0AA', '#F5B7B1'])\n",
    "sns.stripplot(x=\"auto_test\", y=\"Time_To_Install\", data=data, palette=['green', 'red'], zorder=0.05)\n",
    "\n",
    "x1, x2 = 0, 1\n",
    "y, h, col = data['Time_To_Install'].max() + 4, 2, 'k'\n",
    "plt.plot([x1, x1, x2, x2], [y, y+h, y+h, y], lw=1.5, c=col)\n",
    "\n",
    "p_value = stats.ks_2samp(data[(data.auto_test=='Fail')].Time_To_Install.tolist(),\n",
    "                         data[(data.auto_test=='Pass')].Time_To_Install.tolist())\n",
    "\n",
    "plt.text((x1+x2)*.5, y+h, 'Pval: %.10f'%(p_value[1]), ha='center', va='bottom', color=col)\n",
    "\n",
    "\n",
    "plt.ylim(ymin=0) \n",
    "plt.ylim(ymax=135) \n",
    "plt.xlabel(\"Automatic Installation Test\")\n",
    "plt.ylabel(\"Installation Time (Min)\")\n",
    "plt.xticks(ind, [\"Passed\", \"Failed\"], color='k')\n",
    "plt.show()"
   ]
  },
  {
   "cell_type": "markdown",
   "metadata": {},
   "source": [
    "## FIGURE E: Effect of Bioconda Package Manger on Installation Time"
   ]
  },
  {
   "cell_type": "code",
   "execution_count": 369,
   "metadata": {},
   "outputs": [],
   "source": [
    "## TODO Be sure No = all other groups besides Other and Bioconda"
   ]
  },
  {
   "cell_type": "code",
   "execution_count": 370,
   "metadata": {},
   "outputs": [
    {
     "data": {
      "image/png": "[encoded data removed]",
      "text/plain": [
       "<Figure size 360x360 with 1 Axes>"
      ]
     },
     "metadata": {},
     "output_type": "display_data"
    }
   ],
   "source": [
    "conditions = [\n",
    "    (data['Source_'] == 'Bioconda'),\n",
    "     (data['Source_'] == 'Other')]\n",
    "choices = ['Bioconda', 'Other']\n",
    "data['custom_source'] = np.select(conditions, choices, default='No')\n",
    "sns.catplot(x=\"custom_source\", y=\"Time_To_Install\", kind=\"box\", data=data, palette=[\"#E8DAEF\",\"#F7F9F9\", \"#AED6F1\"])\n",
    "sns.swarmplot(x=\"custom_source\", y=\"Time_To_Install\", data=data, palette=[\"#7D3C98\",\"#717D7E\", \"#2874A6\"])\n",
    "\n",
    "x1, x2 = 0, 1\n",
    "y, h, col = data['Time_To_Install'].max() + 2, 2, 'k'\n",
    "plt.plot([x1, x1, x2, x2], [y, y+h, y+h, y], lw=1.5, c=col)\n",
    "\n",
    "p_value = stats.ks_2samp(data[(data.custom_source=='Bioconda')].Normalized_citations.tolist(),\n",
    "                         data[(data.custom_source=='Other')].Normalized_citations.tolist())\n",
    "plt.text((x1+x2)*.5, y+h, 'Pval: %.3f'%(p_value[1]), ha='center', va='bottom', color=col)\n",
    "\n",
    "x1, x2 = 0, 2\n",
    "y, h, col = data['Time_To_Install'].max() + 7, 5, 'k'\n",
    "plt.plot([x1, x1, x2, x2], [y, y+h, y+h, y], lw=1.5, c=col)\n",
    "\n",
    "p_value = stats.ks_2samp(data[(data.custom_source=='Bioconda')].Normalized_citations.tolist(),\n",
    "                         data[(data.custom_source=='No')].Normalized_citations.tolist())\n",
    "plt.text((x1+x2)*.5, y+h, 'Pval: %.3f'%(p_value[1]), ha='center', va='bottom', color=col)\n",
    "\n",
    "plt.ylim(ymax=150) \n",
    "plt.xlabel(\"Package Manager\")\n",
    "plt.ylabel(\"Installation Time (Min)\")\n",
    "plt.show()"
   ]
  },
  {
   "cell_type": "markdown",
   "metadata": {},
   "source": [
    "## FIGURE F: Portion of Undocumented Commands Compared to Difficulty Status"
   ]
  },
  {
   "cell_type": "code",
   "execution_count": 371,
   "metadata": {},
   "outputs": [
    {
     "data": {
      "text/html": [
       "<div>\n",
       "<style scoped>\n",
       "    .dataframe tbody tr th:only-of-type {\n",
       "        vertical-align: middle;\n",
       "    }\n",
       "\n",
       "    .dataframe tbody tr th {\n",
       "        vertical-align: top;\n",
       "    }\n",
       "\n",
       "    .dataframe thead th {\n",
       "        text-align: right;\n",
       "    }\n",
       "</style>\n",
       "<table border=\"1\" class=\"dataframe\">\n",
       "  <thead>\n",
       "    <tr style=\"text-align: right;\">\n",
       "      <th></th>\n",
       "      <th>Unnamed:_0</th>\n",
       "      <th>ID</th>\n",
       "      <th>Domain</th>\n",
       "      <th>Journal_of_Molecular_Diagnostics</th>\n",
       "      <th>Year</th>\n",
       "      <th>Lapsed_</th>\n",
       "      <th>Language</th>\n",
       "      <th>Update</th>\n",
       "      <th>Source_</th>\n",
       "      <th>Source_Control</th>\n",
       "      <th>...</th>\n",
       "      <th>Releases</th>\n",
       "      <th>Error._Hard_codding._Broken_invalid_link._Yes/No</th>\n",
       "      <th>Outdated_Dependency</th>\n",
       "      <th>Commands</th>\n",
       "      <th>Commands_Listed</th>\n",
       "      <th>Time_To_Install</th>\n",
       "      <th>Difficulty_Status</th>\n",
       "      <th>Example_Provided</th>\n",
       "      <th>auto_test</th>\n",
       "      <th>custom_source</th>\n",
       "    </tr>\n",
       "  </thead>\n",
       "  <tbody>\n",
       "    <tr>\n",
       "      <th>0</th>\n",
       "      <td>1</td>\n",
       "      <td>mp1</td>\n",
       "      <td>mapping</td>\n",
       "      <td>Genome Biology</td>\n",
       "      <td>2009</td>\n",
       "      <td>10</td>\n",
       "      <td>C++</td>\n",
       "      <td>2017</td>\n",
       "      <td>Bioconda</td>\n",
       "      <td>Y</td>\n",
       "      <td>...</td>\n",
       "      <td>30.0</td>\n",
       "      <td>N</td>\n",
       "      <td>N</td>\n",
       "      <td>1.0</td>\n",
       "      <td>1.0</td>\n",
       "      <td>5</td>\n",
       "      <td>2</td>\n",
       "      <td>Y</td>\n",
       "      <td>Pass</td>\n",
       "      <td>Bioconda</td>\n",
       "    </tr>\n",
       "    <tr>\n",
       "      <th>1</th>\n",
       "      <td>2</td>\n",
       "      <td>mp2</td>\n",
       "      <td>mapping</td>\n",
       "      <td>Bioinformatics</td>\n",
       "      <td>2013</td>\n",
       "      <td>6</td>\n",
       "      <td>C++</td>\n",
       "      <td>2017</td>\n",
       "      <td>Bioconda</td>\n",
       "      <td>Y</td>\n",
       "      <td>...</td>\n",
       "      <td>36.0</td>\n",
       "      <td>N</td>\n",
       "      <td>N</td>\n",
       "      <td>1.0</td>\n",
       "      <td>1.0</td>\n",
       "      <td>5</td>\n",
       "      <td>2</td>\n",
       "      <td>Y</td>\n",
       "      <td>Pass</td>\n",
       "      <td>Bioconda</td>\n",
       "    </tr>\n",
       "    <tr>\n",
       "      <th>2</th>\n",
       "      <td>3</td>\n",
       "      <td>mp3</td>\n",
       "      <td>mapping</td>\n",
       "      <td>Bioinformatics</td>\n",
       "      <td>2012</td>\n",
       "      <td>7</td>\n",
       "      <td>C++</td>\n",
       "      <td>2014</td>\n",
       "      <td>Bioconda</td>\n",
       "      <td>N</td>\n",
       "      <td>...</td>\n",
       "      <td>16.0</td>\n",
       "      <td>N</td>\n",
       "      <td>N</td>\n",
       "      <td>1.0</td>\n",
       "      <td>1.0</td>\n",
       "      <td>5</td>\n",
       "      <td>2</td>\n",
       "      <td>Y</td>\n",
       "      <td>Pass</td>\n",
       "      <td>Bioconda</td>\n",
       "    </tr>\n",
       "    <tr>\n",
       "      <th>3</th>\n",
       "      <td>4</td>\n",
       "      <td>mp4</td>\n",
       "      <td>mapping</td>\n",
       "      <td>Genome Biology</td>\n",
       "      <td>2004</td>\n",
       "      <td>15</td>\n",
       "      <td>C++</td>\n",
       "      <td>2017</td>\n",
       "      <td>Bioconda</td>\n",
       "      <td>N</td>\n",
       "      <td>...</td>\n",
       "      <td>7.0</td>\n",
       "      <td>N</td>\n",
       "      <td>N</td>\n",
       "      <td>1.0</td>\n",
       "      <td>1.0</td>\n",
       "      <td>5</td>\n",
       "      <td>2</td>\n",
       "      <td>Y</td>\n",
       "      <td>Pass</td>\n",
       "      <td>Bioconda</td>\n",
       "    </tr>\n",
       "    <tr>\n",
       "      <th>4</th>\n",
       "      <td>5</td>\n",
       "      <td>mp5</td>\n",
       "      <td>mapping</td>\n",
       "      <td>Bioinformatics</td>\n",
       "      <td>2009</td>\n",
       "      <td>10</td>\n",
       "      <td>C</td>\n",
       "      <td>2011</td>\n",
       "      <td>Bioconda</td>\n",
       "      <td>N</td>\n",
       "      <td>...</td>\n",
       "      <td>12.0</td>\n",
       "      <td>N</td>\n",
       "      <td>N</td>\n",
       "      <td>1.0</td>\n",
       "      <td>1.0</td>\n",
       "      <td>15</td>\n",
       "      <td>2</td>\n",
       "      <td>Y</td>\n",
       "      <td>Pass</td>\n",
       "      <td>Bioconda</td>\n",
       "    </tr>\n",
       "    <tr>\n",
       "      <th>5</th>\n",
       "      <td>6</td>\n",
       "      <td>mp6</td>\n",
       "      <td>mapping</td>\n",
       "      <td>PLOS Comp Bio</td>\n",
       "      <td>2009</td>\n",
       "      <td>10</td>\n",
       "      <td>C++</td>\n",
       "      <td>2012</td>\n",
       "      <td>Bioconda</td>\n",
       "      <td>N</td>\n",
       "      <td>...</td>\n",
       "      <td>21.0</td>\n",
       "      <td>N</td>\n",
       "      <td>N</td>\n",
       "      <td>1.0</td>\n",
       "      <td>1.0</td>\n",
       "      <td>5</td>\n",
       "      <td>2</td>\n",
       "      <td>Y</td>\n",
       "      <td>Pass</td>\n",
       "      <td>Bioconda</td>\n",
       "    </tr>\n",
       "    <tr>\n",
       "      <th>6</th>\n",
       "      <td>7</td>\n",
       "      <td>mp7</td>\n",
       "      <td>mapping</td>\n",
       "      <td>Nature Genetics</td>\n",
       "      <td>2009</td>\n",
       "      <td>10</td>\n",
       "      <td>C</td>\n",
       "      <td>2014</td>\n",
       "      <td>Bioconda</td>\n",
       "      <td>N</td>\n",
       "      <td>...</td>\n",
       "      <td>23.0</td>\n",
       "      <td>N</td>\n",
       "      <td>N</td>\n",
       "      <td>1.0</td>\n",
       "      <td>1.0</td>\n",
       "      <td>5</td>\n",
       "      <td>2</td>\n",
       "      <td>Y</td>\n",
       "      <td>Pass</td>\n",
       "      <td>Bioconda</td>\n",
       "    </tr>\n",
       "    <tr>\n",
       "      <th>7</th>\n",
       "      <td>8</td>\n",
       "      <td>mp8</td>\n",
       "      <td>mapping</td>\n",
       "      <td>Bioinformatics</td>\n",
       "      <td>2008</td>\n",
       "      <td>11</td>\n",
       "      <td>C</td>\n",
       "      <td>2008</td>\n",
       "      <td>Other</td>\n",
       "      <td>N</td>\n",
       "      <td>...</td>\n",
       "      <td>23.0</td>\n",
       "      <td>N</td>\n",
       "      <td>N</td>\n",
       "      <td>3.0</td>\n",
       "      <td>3.0</td>\n",
       "      <td>5</td>\n",
       "      <td>2</td>\n",
       "      <td>Y</td>\n",
       "      <td>Pass</td>\n",
       "      <td>Other</td>\n",
       "    </tr>\n",
       "    <tr>\n",
       "      <th>8</th>\n",
       "      <td>9</td>\n",
       "      <td>mp9</td>\n",
       "      <td>mapping</td>\n",
       "      <td>Genome Biology</td>\n",
       "      <td>2013</td>\n",
       "      <td>6</td>\n",
       "      <td>C++</td>\n",
       "      <td>2016</td>\n",
       "      <td>Other</td>\n",
       "      <td>N</td>\n",
       "      <td>...</td>\n",
       "      <td>17.0</td>\n",
       "      <td>N</td>\n",
       "      <td>N</td>\n",
       "      <td>22.0</td>\n",
       "      <td>4.0</td>\n",
       "      <td>30</td>\n",
       "      <td>1</td>\n",
       "      <td>Y</td>\n",
       "      <td>Fail</td>\n",
       "      <td>Other</td>\n",
       "    </tr>\n",
       "    <tr>\n",
       "      <th>9</th>\n",
       "      <td>10</td>\n",
       "      <td>mp10</td>\n",
       "      <td>mapping</td>\n",
       "      <td>Nature Methods</td>\n",
       "      <td>2015</td>\n",
       "      <td>4</td>\n",
       "      <td>C++</td>\n",
       "      <td>2017</td>\n",
       "      <td>Bioconda</td>\n",
       "      <td>Y</td>\n",
       "      <td>...</td>\n",
       "      <td>7.0</td>\n",
       "      <td>Y</td>\n",
       "      <td>N</td>\n",
       "      <td>1.0</td>\n",
       "      <td>1.0</td>\n",
       "      <td>30</td>\n",
       "      <td>1</td>\n",
       "      <td>Y</td>\n",
       "      <td>Pass</td>\n",
       "      <td>Bioconda</td>\n",
       "    </tr>\n",
       "  </tbody>\n",
       "</table>\n",
       "<p>10 rows × 23 columns</p>\n",
       "</div>"
      ],
      "text/plain": [
       "   Unnamed:_0    ID   Domain Journal_of_Molecular_Diagnostics  Year  Lapsed_  \\\n",
       "0           1   mp1  mapping                   Genome Biology  2009       10   \n",
       "1           2   mp2  mapping                   Bioinformatics  2013        6   \n",
       "2           3   mp3  mapping                   Bioinformatics  2012        7   \n",
       "3           4   mp4  mapping                   Genome Biology  2004       15   \n",
       "4           5   mp5  mapping                   Bioinformatics  2009       10   \n",
       "5           6   mp6  mapping                    PLOS Comp Bio  2009       10   \n",
       "6           7   mp7  mapping                  Nature Genetics  2009       10   \n",
       "7           8   mp8  mapping                   Bioinformatics  2008       11   \n",
       "8           9   mp9  mapping                   Genome Biology  2013        6   \n",
       "9          10  mp10  mapping                   Nature Methods  2015        4   \n",
       "\n",
       "  Language Update   Source_ Source_Control      ...       Releases  \\\n",
       "0      C++   2017  Bioconda              Y      ...           30.0   \n",
       "1      C++   2017  Bioconda              Y      ...           36.0   \n",
       "2      C++   2014  Bioconda              N      ...           16.0   \n",
       "3      C++   2017  Bioconda              N      ...            7.0   \n",
       "4        C   2011  Bioconda              N      ...           12.0   \n",
       "5      C++   2012  Bioconda              N      ...           21.0   \n",
       "6        C   2014  Bioconda              N      ...           23.0   \n",
       "7        C   2008     Other              N      ...           23.0   \n",
       "8      C++   2016     Other              N      ...           17.0   \n",
       "9      C++   2017  Bioconda              Y      ...            7.0   \n",
       "\n",
       "   Error._Hard_codding._Broken_invalid_link._Yes/No  Outdated_Dependency  \\\n",
       "0                                                 N                    N   \n",
       "1                                                 N                    N   \n",
       "2                                                 N                    N   \n",
       "3                                                 N                    N   \n",
       "4                                                 N                    N   \n",
       "5                                                 N                    N   \n",
       "6                                                 N                    N   \n",
       "7                                                 N                    N   \n",
       "8                                                 N                    N   \n",
       "9                                                 Y                    N   \n",
       "\n",
       "   Commands Commands_Listed Time_To_Install  Difficulty_Status  \\\n",
       "0       1.0             1.0               5                  2   \n",
       "1       1.0             1.0               5                  2   \n",
       "2       1.0             1.0               5                  2   \n",
       "3       1.0             1.0               5                  2   \n",
       "4       1.0             1.0              15                  2   \n",
       "5       1.0             1.0               5                  2   \n",
       "6       1.0             1.0               5                  2   \n",
       "7       3.0             3.0               5                  2   \n",
       "8      22.0             4.0              30                  1   \n",
       "9       1.0             1.0              30                  1   \n",
       "\n",
       "   Example_Provided  auto_test  custom_source  \n",
       "0                 Y       Pass       Bioconda  \n",
       "1                 Y       Pass       Bioconda  \n",
       "2                 Y       Pass       Bioconda  \n",
       "3                 Y       Pass       Bioconda  \n",
       "4                 Y       Pass       Bioconda  \n",
       "5                 Y       Pass       Bioconda  \n",
       "6                 Y       Pass       Bioconda  \n",
       "7                 Y       Pass          Other  \n",
       "8                 Y       Fail          Other  \n",
       "9                 Y       Pass       Bioconda  \n",
       "\n",
       "[10 rows x 23 columns]"
      ]
     },
     "execution_count": 371,
     "metadata": {},
     "output_type": "execute_result"
    }
   ],
   "source": [
    "data.head(10)"
   ]
  },
  {
   "cell_type": "code",
   "execution_count": 419,
   "metadata": {},
   "outputs": [
    {
     "data": {
      "image/png": "[encoded data removed]",
      "text/plain": [
       "<Figure size 432x288 with 1 Axes>"
      ]
     },
     "metadata": {},
     "output_type": "display_data"
    }
   ],
   "source": [
    "data[\"Portion_Undocumented\"] = (data[\"Commands\"]-data[\"Commands_Listed\"])/(data[\"Commands\"] + data[\"Commands_Listed\"])\n",
    "sns.boxplot(x=\"Difficulty_Status\", y=\"Portion_Undocumented\", data=data, palette=['#F5B7B1', '#F9E79F', '#82E0AA'])\n",
    "sns.stripplot(x=\"Difficulty_Status\", y=\"Portion_Undocumented\", data=data, palette=['red', 'orange', 'green'], jitter=0.05)\n",
    "labels = [\"Impossible\", \"Hard\", \"Easy\"]\n",
    "ind  = np.arange(3)\n",
    "\n",
    "x1, x2 = 0, 2\n",
    "y, h, col = data['Portion_Undocumented'].max() + 0.1, 0.1, 'k'\n",
    "\n",
    "plt.plot([x1, x1, x2, x2], [y, y+h, y+h, y], lw=1.5, c=col)\n",
    "\n",
    "p_value = stats.ks_2samp(data[(data.Difficulty_Status==0)].Portion_Undocumented.tolist(),\n",
    "                         data[(data.Difficulty_Status==2)].Portion_Undocumented.tolist())\n",
    "plt.text((x1+x2)*.5, y+h, 'Pval: %.6f'%(p_value[1]), ha='center', va='bottom', color=col)\n",
    "\n",
    "\n",
    "x1, x2 = 1, 2\n",
    "y, h, col = data['Portion_Undocumented'].max() + 0.05, 0.05, 'k'\n",
    "plt.plot([x1, x1, x2, x2], [y, y+h, y+h, y], lw=1.5, c=col)\n",
    "\n",
    "p_value = stats.ks_2samp(data[(data.Difficulty_Status==1)].Portion_Undocumented.tolist(),\n",
    "                         data[(data.Difficulty_Status==2)].Portion_Undocumented.tolist())\n",
    "plt.text((x1+x2)*.5, y+h, 'Pval: %.6f'%(p_value[1]), ha='center', va='bottom', color=col)\n",
    "\n",
    "plt.ylim(ymax=1.2) \n",
    "plt.ylim(ymin=0) \n",
    "plt.xlabel(\"Installation Difficulty\")\n",
    "plt.ylabel(\"Portion of Commands Undocumented\")\n",
    "plt.xticks(ind, labels, color='k')\n",
    "plt.show()"
   ]
  },
  {
   "cell_type": "code",
   "execution_count": 420,
   "metadata": {},
   "outputs": [
    {
     "data": {
      "image/png": "[encoded data removed]",
      "text/plain": [
       "<Figure size 360x360 with 1 Axes>"
      ]
     },
     "metadata": {},
     "output_type": "display_data"
    }
   ],
   "source": [
    "data[\"Portion_Undocumented\"] = (data[\"Commands\"]-data[\"Commands_Listed\"])/(data[\"Commands\"] + data[\"Commands_Listed\"])\n",
    "sns.catplot(x=\"Difficulty_Status\", y=\"Portion_Undocumented\", data=data, palette=['#F5B7B1', '#F9E79F', '#82E0AA'], kind=\"violin\", cut=1)\n",
    "sns.stripplot(x=\"Difficulty_Status\", y=\"Portion_Undocumented\", data=data, palette=['red', 'orange', 'green'], jitter=0.05)\n",
    "labels = [\"Impossible\", \"Hard\", \"Easy\"]\n",
    "ind  = np.arange(3)\n",
    "x1, x2 = 0, 2\n",
    "y, h, col = data['Portion_Undocumented'].max() + 0.1, 0.1, 'k'\n",
    "# print data['Portion_Undocumented'].max()\n",
    "plt.plot([x1, x1, x2, x2], [y, y+h, y+h, y], lw=1.5, c=col)\n",
    "\n",
    "p_value = stats.ks_2samp(data[(data.Difficulty_Status==0)].Portion_Undocumented.tolist(),\n",
    "                         data[(data.Difficulty_Status==2)].Portion_Undocumented.tolist())\n",
    "plt.text((x1+x2)*.5, y+h, 'Pval: %.6f'%(p_value[1]), ha='center', va='bottom', color=col)\n",
    "\n",
    "x1, x2 = 1, 2\n",
    "y, h, col = data['Portion_Undocumented'].max() + 0.05, 0.05, 'k'\n",
    "# print data['Portion_Undocumented'].max()\n",
    "plt.plot([x1, x1, x2, x2], [y, y+h, y+h, y], lw=1.5, c=col)\n",
    "\n",
    "p_value = stats.ks_2samp(data[(data.Difficulty_Status==1)].Portion_Undocumented.tolist(),\n",
    "                         data[(data.Difficulty_Status==2)].Portion_Undocumented.tolist())\n",
    "plt.text((x1+x2)*.5, y+h, 'Pval: %.6f'%(p_value[1]), ha='center', va='bottom', color=col)\n",
    "\n",
    "plt.ylim(ymax=1.2) \n",
    "plt.ylim(ymin=0) \n",
    "plt.xlabel(\"Installation Difficulty\")\n",
    "plt.ylabel(\"Portion of Commands Undocumented\")\n",
    "plt.xticks(ind, labels, color='k')\n",
    "plt.show()"
   ]
  },
  {
   "cell_type": "markdown",
   "metadata": {},
   "source": [
    "## FIGURE NEW: Suggested by Serghei to see if statistical significance between citations based on example provided"
   ]
  },
  {
   "cell_type": "code",
   "execution_count": 373,
   "metadata": {},
   "outputs": [
    {
     "data": {
      "text/html": [
       "<div>\n",
       "<style scoped>\n",
       "    .dataframe tbody tr th:only-of-type {\n",
       "        vertical-align: middle;\n",
       "    }\n",
       "\n",
       "    .dataframe tbody tr th {\n",
       "        vertical-align: top;\n",
       "    }\n",
       "\n",
       "    .dataframe thead th {\n",
       "        text-align: right;\n",
       "    }\n",
       "</style>\n",
       "<table border=\"1\" class=\"dataframe\">\n",
       "  <thead>\n",
       "    <tr style=\"text-align: right;\">\n",
       "      <th></th>\n",
       "      <th>Unnamed:_0</th>\n",
       "      <th>Year</th>\n",
       "      <th>Lapsed_</th>\n",
       "      <th>Citations</th>\n",
       "      <th>Normalized_citations</th>\n",
       "      <th>Releases</th>\n",
       "      <th>Commands</th>\n",
       "      <th>Commands_Listed</th>\n",
       "      <th>Time_To_Install</th>\n",
       "      <th>Difficulty_Status</th>\n",
       "      <th>Portion_Undocumented</th>\n",
       "    </tr>\n",
       "    <tr>\n",
       "      <th>Example_Provided</th>\n",
       "      <th></th>\n",
       "      <th></th>\n",
       "      <th></th>\n",
       "      <th></th>\n",
       "      <th></th>\n",
       "      <th></th>\n",
       "      <th></th>\n",
       "      <th></th>\n",
       "      <th></th>\n",
       "      <th></th>\n",
       "      <th></th>\n",
       "    </tr>\n",
       "  </thead>\n",
       "  <tbody>\n",
       "    <tr>\n",
       "      <th>N</th>\n",
       "      <td>67.806452</td>\n",
       "      <td>2012.516129</td>\n",
       "      <td>6.483871</td>\n",
       "      <td>122.225806</td>\n",
       "      <td>15.794278</td>\n",
       "      <td>5.142857</td>\n",
       "      <td>4.863636</td>\n",
       "      <td>3.631579</td>\n",
       "      <td>48.387097</td>\n",
       "      <td>1.193548</td>\n",
       "      <td>0.067302</td>\n",
       "    </tr>\n",
       "    <tr>\n",
       "      <th>Y</th>\n",
       "      <td>42.164179</td>\n",
       "      <td>2012.268657</td>\n",
       "      <td>6.731343</td>\n",
       "      <td>978.611940</td>\n",
       "      <td>106.029622</td>\n",
       "      <td>12.543478</td>\n",
       "      <td>9.163934</td>\n",
       "      <td>4.064516</td>\n",
       "      <td>41.194030</td>\n",
       "      <td>1.253731</td>\n",
       "      <td>0.147236</td>\n",
       "    </tr>\n",
       "  </tbody>\n",
       "</table>\n",
       "</div>"
      ],
      "text/plain": [
       "                  Unnamed:_0         Year   Lapsed_   Citations  \\\n",
       "Example_Provided                                                  \n",
       "N                  67.806452  2012.516129  6.483871  122.225806   \n",
       "Y                  42.164179  2012.268657  6.731343  978.611940   \n",
       "\n",
       "                  Normalized_citations   Releases  Commands  Commands_Listed  \\\n",
       "Example_Provided                                                               \n",
       "N                            15.794278   5.142857  4.863636         3.631579   \n",
       "Y                           106.029622  12.543478  9.163934         4.064516   \n",
       "\n",
       "                  Time_To_Install  Difficulty_Status  Portion_Undocumented  \n",
       "Example_Provided                                                            \n",
       "N                       48.387097           1.193548              0.067302  \n",
       "Y                       41.194030           1.253731              0.147236  "
      ]
     },
     "execution_count": 373,
     "metadata": {},
     "output_type": "execute_result"
    }
   ],
   "source": [
    "#Lets get clean some data to get sums for the number of citations\n",
    "ex_status_mean = data.groupby(['Example_Provided',]).mean()\n",
    "ex_status_std = data.groupby(['Example_Provided',]).std()\n",
    "ex_status_size = data.groupby(['Example_Provided',]).size()\n",
    "ex_status_sum = data.groupby(['Example_Provided',]).sum()\n",
    "ex_status_mean.head()"
   ]
  },
  {
   "cell_type": "code",
   "execution_count": 374,
   "metadata": {},
   "outputs": [
    {
     "data": {
      "image/png": "[encoded data removed]",
      "text/plain": [
       "<Figure size 432x288 with 1 Axes>"
      ]
     },
     "metadata": {},
     "output_type": "display_data"
    }
   ],
   "source": [
    "colors = ('yellow', 'blue')\n",
    "std     = [i for i in ex_status_std[\"Normalized_citations\"]]\n",
    "means   = [i for i in ex_status_mean[\"Normalized_citations\"]]\n",
    "ns = [i for i in ex_status_size]\n",
    "\n",
    "ind  = np.arange(2)    # the x locations for the groups\n",
    "width= 0.7\n",
    "labels = ('No', 'Yes')\n",
    "\n",
    "# Pull the formatting out here\n",
    "bar_kwargs = {'width':width, 'color':'y', 'linewidth':2, 'zorder':5}\n",
    "err_kwargs = {'zorder':0, 'fmt':None, 'linewidth':2, 'ecolor':'k'}  #for matplotlib >= v1.4 use 'fmt':'none' instead\n",
    "\n",
    "fig, ax = plt.subplots()\n",
    "ax.p1 = plt.bar(ind, means, color=colors)\n",
    "\n",
    "p_value = stats.ks_2samp(data[(data.Example_Provided=='Y')].Normalized_citations.tolist(),\n",
    "                         data[(data.Example_Provided=='N')].Normalized_citations.tolist())\n",
    "label_diff(0,1, 'P-Value: %.3f' %(p_value[1]), ind, means)\n",
    "\n",
    "\n",
    "plt.errorbar(ind, means, yerr=[x/math.sqrt(n) for x,n in zip(means,ns)], fmt='o', color='black')\n",
    "plt.ylim(ymax=200) \n",
    "# plt.title(\"Number of Citations Per Year Based on Tool Installation Difficulty\\n\", fontsize=14)\n",
    "plt.ylabel(\"Number of Citations Per Year\")\n",
    "plt.xlabel(\"Test Example Provided\")\n",
    "plt.xticks(ind, labels, color='k')\n",
    "plt.show()"
   ]
  },
  {
   "cell_type": "code",
   "execution_count": 376,
   "metadata": {},
   "outputs": [
    {
     "data": {
      "image/png": "[encoded data removed]",
      "text/plain": [
       "<Figure size 432x288 with 1 Axes>"
      ]
     },
     "metadata": {},
     "output_type": "display_data"
    }
   ],
   "source": [
    "ax = sns.boxplot(x=\"Example_Provided\", y=\"Normalized_citations\", data=data, palette=[\"blue\", \"yellow\"])\n",
    "sns.swarmplot(x=\"Example_Provided\", y=\"Normalized_citations\", palette=[\"blue\", \"yellow\"], data=data)\n",
    "ax.set_ylim(0,280)\n",
    "plt.ylabel(\"Number of Citations Per Year\")\n",
    "plt.xlabel(\"Test Example Provided\")\n",
    "labels = ('Yes', 'No')\n",
    "plt.xticks(ind, labels, color='k')\n",
    "\n",
    "\n",
    "x1, x2 = 0, 1\n",
    "y, h, col = 250 + 7, 4, 'k'\n",
    "# print data['Portion_Undocumented'].max()\n",
    "plt.plot([x1, x1, x2, x2], [y, y+h, y+h, y], lw=1.5, c=col)\n",
    "\n",
    "p_value = stats.ks_2samp(data[(data.Example_Provided=='Y')].Normalized_citations.tolist(),\n",
    "                         data[(data.Example_Provided=='N')].Normalized_citations.tolist())\n",
    "plt.text((x1+x2)*.5, y+h, 'Pval: %.6f'%(p_value[1]), ha='center', va='bottom', color=col)\n",
    "\n",
    "\n",
    "plt.show()"
   ]
  },
  {
   "cell_type": "code",
   "execution_count": 411,
   "metadata": {},
   "outputs": [
    {
     "name": "stderr",
     "output_type": "stream",
     "text": [
      "c:\\python27\\lib\\site-packages\\seaborn\\categorical.py:2775: UserWarning: The `split` parameter has been renamed to `dodge`.\n",
      "  warnings.warn(msg, UserWarning)\n"
     ]
    },
    {
     "data": {
      "text/plain": [
       "<matplotlib.axes._subplots.AxesSubplot at 0x108ec390>"
      ]
     },
     "execution_count": 411,
     "metadata": {},
     "output_type": "execute_result"
    },
    {
     "data": {
      "image/png": "[encoded data removed]",
      "text/plain": [
       "<Figure size 360x360 with 1 Axes>"
      ]
     },
     "metadata": {},
     "output_type": "display_data"
    }
   ],
   "source": [
    "tips = sns.load_dataset(\"tips\")\n",
    "\n",
    "\n",
    "\n",
    "sns.catplot(x=\"custom_source\", y=\"Time_To_Install\", kind=\"violin\",\n",
    "            data=data,palette=\"Set2\",fliersize=0, cut=0)\n",
    "sns.stripplot(x=\"custom_source\", y=\"Time_To_Install\",\n",
    "              data=data,\n",
    "              palette=\"Set2\", split=True,linewidth=1,edgecolor='gray', jitter=0.05)"
   ]
  },
  {
   "cell_type": "code",
   "execution_count": 407,
   "metadata": {},
   "outputs": [
    {
     "data": {
      "text/plain": [
       "<seaborn.axisgrid.FacetGrid at 0x97a8dd0>"
      ]
     },
     "execution_count": 407,
     "metadata": {},
     "output_type": "execute_result"
    },
    {
     "data": {
      "image/png": "[encoded data removed]",
      "text/plain": [
       "<Figure size 360x360 with 1 Axes>"
      ]
     },
     "metadata": {},
     "output_type": "display_data"
    }
   ],
   "source": [
    "tips = sns.load_dataset(\"tips\")\n",
    "\n",
    "sns.catplot(x=\"custom_source\", y=\"Time_To_Install\", kind=\"violin\",\n",
    "            data=data,palette=\"Set2\",fliersize=0, cut=0)\n"
   ]
  },
  {
   "cell_type": "code",
   "execution_count": null,
   "metadata": {},
   "outputs": [],
   "source": []
  }
 ],
 "metadata": {
  "kernelspec": {
   "display_name": "Python 2",
   "language": "python",
   "name": "python2"
  },
  "language_info": {
   "codemirror_mode": {
    "name": "ipython",
    "version": 2
   },
   "file_extension": ".py",
   "mimetype": "text/x-python",
   "name": "python",
   "nbconvert_exporter": "python",
   "pygments_lexer": "ipython2",
   "version": "2.7.13"
  }
 },
 "nbformat": 4,
 "nbformat_minor": 2
}
